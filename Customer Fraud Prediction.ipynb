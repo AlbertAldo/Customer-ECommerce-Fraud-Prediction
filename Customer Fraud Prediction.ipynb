{
 "cells": [
  {
   "cell_type": "code",
   "execution_count": 1,
   "metadata": {},
   "outputs": [],
   "source": [
    "import numpy as np\n",
    "import pandas as pd\n",
    "import matplotlib.pyplot as plt\n",
    "import seaborn as sns\n",
    "import warnings\n",
    "warnings.filterwarnings('ignore')"
   ]
  },
  {
   "cell_type": "code",
   "execution_count": 2,
   "metadata": {},
   "outputs": [],
   "source": [
    "from sklearn.model_selection import train_test_split, GridSearchCV, StratifiedKFold\n",
    "from sklearn.metrics import accuracy_score, precision_score, recall_score, f1_score, confusion_matrix, classification_report\n",
    "\n",
    "from sklearn.compose import ColumnTransformer\n",
    "from sklearn.pipeline import Pipeline\n",
    "from sklearn.impute import SimpleImputer\n",
    "\n",
    "from sklearn.preprocessing import RobustScaler, PowerTransformer, PolynomialFeatures, OneHotEncoder\n",
    "\n",
    "from sklearn.neighbors import KNeighborsClassifier\n",
    "from sklearn.svm import SVC\n",
    "from sklearn.linear_model import LogisticRegression\n",
    "from sklearn.tree import DecisionTreeClassifier\n",
    "from sklearn.ensemble import RandomForestClassifier"
   ]
  },
  {
   "cell_type": "code",
   "execution_count": 3,
   "metadata": {},
   "outputs": [],
   "source": [
    "pd.options.display.max_columns = 999"
   ]
  },
  {
   "cell_type": "code",
   "execution_count": 4,
   "metadata": {},
   "outputs": [],
   "source": [
    "dfa = pd.read_csv('Customer_DF.csv')\n",
    "dfb = pd.read_csv('cust_transaction_details.csv')"
   ]
  },
  {
   "cell_type": "code",
   "execution_count": 5,
   "metadata": {},
   "outputs": [
    {
     "data": {
      "text/html": [
       "<div>\n",
       "<style scoped>\n",
       "    .dataframe tbody tr th:only-of-type {\n",
       "        vertical-align: middle;\n",
       "    }\n",
       "\n",
       "    .dataframe tbody tr th {\n",
       "        vertical-align: top;\n",
       "    }\n",
       "\n",
       "    .dataframe thead th {\n",
       "        text-align: right;\n",
       "    }\n",
       "</style>\n",
       "<table border=\"1\" class=\"dataframe\">\n",
       "  <thead>\n",
       "    <tr style=\"text-align: right;\">\n",
       "      <th></th>\n",
       "      <th>Unnamed: 0</th>\n",
       "      <th>customerEmail</th>\n",
       "      <th>customerPhone</th>\n",
       "      <th>customerDevice</th>\n",
       "      <th>customerIPAddress</th>\n",
       "      <th>customerBillingAddress</th>\n",
       "      <th>No_Transactions</th>\n",
       "      <th>No_Orders</th>\n",
       "      <th>No_Payments</th>\n",
       "      <th>Fraud</th>\n",
       "    </tr>\n",
       "  </thead>\n",
       "  <tbody>\n",
       "    <tr>\n",
       "      <th>0</th>\n",
       "      <td>0</td>\n",
       "      <td>josephhoward@yahoo.com</td>\n",
       "      <td>400-108-5415</td>\n",
       "      <td>yyeiaxpltf82440jnb3v</td>\n",
       "      <td>8.129.104.40</td>\n",
       "      <td>5493 Jones Islands\\nBrownside, CA 51896</td>\n",
       "      <td>2</td>\n",
       "      <td>2</td>\n",
       "      <td>1</td>\n",
       "      <td>False</td>\n",
       "    </tr>\n",
       "    <tr>\n",
       "      <th>1</th>\n",
       "      <td>1</td>\n",
       "      <td>evansjeffery@yahoo.com</td>\n",
       "      <td>1-788-091-7546</td>\n",
       "      <td>r0jpm7xaeqqa3kr6mzum</td>\n",
       "      <td>219.173.211.202</td>\n",
       "      <td>356 Elizabeth Inlet Suite 120\\nPort Joshuabury...</td>\n",
       "      <td>3</td>\n",
       "      <td>3</td>\n",
       "      <td>7</td>\n",
       "      <td>True</td>\n",
       "    </tr>\n",
       "    <tr>\n",
       "      <th>2</th>\n",
       "      <td>2</td>\n",
       "      <td>andersonwilliam@yahoo.com</td>\n",
       "      <td>024.420.0375</td>\n",
       "      <td>4m7h5ipl1shyavt6vv2r</td>\n",
       "      <td>67b7:3db8:67e0:3bea:b9d0:90c1:2b60:b9f0</td>\n",
       "      <td>8478 Sean Ridges Apt. 441\\nDavisberg, PR 72250</td>\n",
       "      <td>5</td>\n",
       "      <td>3</td>\n",
       "      <td>2</td>\n",
       "      <td>False</td>\n",
       "    </tr>\n",
       "    <tr>\n",
       "      <th>3</th>\n",
       "      <td>3</td>\n",
       "      <td>rubenjuarez@yahoo.com</td>\n",
       "      <td>670.664.8168x94985</td>\n",
       "      <td>slovx60t0i558may4ks0</td>\n",
       "      <td>95de:8565:5a66:792c:26e0:6cfb:7d87:11af</td>\n",
       "      <td>7769 Elizabeth Bridge Apt. 343\\nNortonstad, FM...</td>\n",
       "      <td>3</td>\n",
       "      <td>3</td>\n",
       "      <td>1</td>\n",
       "      <td>False</td>\n",
       "    </tr>\n",
       "    <tr>\n",
       "      <th>4</th>\n",
       "      <td>4</td>\n",
       "      <td>uchen@malone.com</td>\n",
       "      <td>1-981-877-0870</td>\n",
       "      <td>j0pd24k5h8dl2fqu0cz4</td>\n",
       "      <td>196.89.235.192</td>\n",
       "      <td>148 Russell Lodge Apt. 445\\nPort Jenniferside,...</td>\n",
       "      <td>7</td>\n",
       "      <td>7</td>\n",
       "      <td>6</td>\n",
       "      <td>True</td>\n",
       "    </tr>\n",
       "  </tbody>\n",
       "</table>\n",
       "</div>"
      ],
      "text/plain": [
       "   Unnamed: 0              customerEmail       customerPhone  \\\n",
       "0           0     josephhoward@yahoo.com        400-108-5415   \n",
       "1           1     evansjeffery@yahoo.com      1-788-091-7546   \n",
       "2           2  andersonwilliam@yahoo.com        024.420.0375   \n",
       "3           3      rubenjuarez@yahoo.com  670.664.8168x94985   \n",
       "4           4           uchen@malone.com      1-981-877-0870   \n",
       "\n",
       "         customerDevice                        customerIPAddress  \\\n",
       "0  yyeiaxpltf82440jnb3v                             8.129.104.40   \n",
       "1  r0jpm7xaeqqa3kr6mzum                          219.173.211.202   \n",
       "2  4m7h5ipl1shyavt6vv2r  67b7:3db8:67e0:3bea:b9d0:90c1:2b60:b9f0   \n",
       "3  slovx60t0i558may4ks0  95de:8565:5a66:792c:26e0:6cfb:7d87:11af   \n",
       "4  j0pd24k5h8dl2fqu0cz4                           196.89.235.192   \n",
       "\n",
       "                              customerBillingAddress  No_Transactions  \\\n",
       "0            5493 Jones Islands\\nBrownside, CA 51896                2   \n",
       "1  356 Elizabeth Inlet Suite 120\\nPort Joshuabury...                3   \n",
       "2     8478 Sean Ridges Apt. 441\\nDavisberg, PR 72250                5   \n",
       "3  7769 Elizabeth Bridge Apt. 343\\nNortonstad, FM...                3   \n",
       "4  148 Russell Lodge Apt. 445\\nPort Jenniferside,...                7   \n",
       "\n",
       "   No_Orders  No_Payments  Fraud  \n",
       "0          2            1  False  \n",
       "1          3            7   True  \n",
       "2          3            2  False  \n",
       "3          3            1  False  \n",
       "4          7            6   True  "
      ]
     },
     "execution_count": 5,
     "metadata": {},
     "output_type": "execute_result"
    }
   ],
   "source": [
    "dfa.head()"
   ]
  },
  {
   "cell_type": "code",
   "execution_count": 6,
   "metadata": {},
   "outputs": [
    {
     "data": {
      "text/html": [
       "<div>\n",
       "<style scoped>\n",
       "    .dataframe tbody tr th:only-of-type {\n",
       "        vertical-align: middle;\n",
       "    }\n",
       "\n",
       "    .dataframe tbody tr th {\n",
       "        vertical-align: top;\n",
       "    }\n",
       "\n",
       "    .dataframe thead th {\n",
       "        text-align: right;\n",
       "    }\n",
       "</style>\n",
       "<table border=\"1\" class=\"dataframe\">\n",
       "  <thead>\n",
       "    <tr style=\"text-align: right;\">\n",
       "      <th></th>\n",
       "      <th>Unnamed: 0</th>\n",
       "      <th>customerEmail</th>\n",
       "      <th>transactionId</th>\n",
       "      <th>orderId</th>\n",
       "      <th>paymentMethodId</th>\n",
       "      <th>paymentMethodRegistrationFailure</th>\n",
       "      <th>paymentMethodType</th>\n",
       "      <th>paymentMethodProvider</th>\n",
       "      <th>transactionAmount</th>\n",
       "      <th>transactionFailed</th>\n",
       "      <th>orderState</th>\n",
       "    </tr>\n",
       "  </thead>\n",
       "  <tbody>\n",
       "    <tr>\n",
       "      <th>0</th>\n",
       "      <td>0</td>\n",
       "      <td>josephhoward@yahoo.com</td>\n",
       "      <td>a9lcj51r</td>\n",
       "      <td>vjbdvd</td>\n",
       "      <td>wt07xm68b</td>\n",
       "      <td>1</td>\n",
       "      <td>card</td>\n",
       "      <td>JCB 16 digit</td>\n",
       "      <td>18</td>\n",
       "      <td>0</td>\n",
       "      <td>pending</td>\n",
       "    </tr>\n",
       "    <tr>\n",
       "      <th>1</th>\n",
       "      <td>1</td>\n",
       "      <td>josephhoward@yahoo.com</td>\n",
       "      <td>y4wcv03i</td>\n",
       "      <td>yp6x27</td>\n",
       "      <td>wt07xm68b</td>\n",
       "      <td>1</td>\n",
       "      <td>card</td>\n",
       "      <td>JCB 16 digit</td>\n",
       "      <td>26</td>\n",
       "      <td>0</td>\n",
       "      <td>fulfilled</td>\n",
       "    </tr>\n",
       "    <tr>\n",
       "      <th>2</th>\n",
       "      <td>2</td>\n",
       "      <td>evansjeffery@yahoo.com</td>\n",
       "      <td>5mi94sfw</td>\n",
       "      <td>nlghpa</td>\n",
       "      <td>41ug157xz</td>\n",
       "      <td>0</td>\n",
       "      <td>bitcoin</td>\n",
       "      <td>American Express</td>\n",
       "      <td>45</td>\n",
       "      <td>0</td>\n",
       "      <td>fulfilled</td>\n",
       "    </tr>\n",
       "    <tr>\n",
       "      <th>3</th>\n",
       "      <td>3</td>\n",
       "      <td>evansjeffery@yahoo.com</td>\n",
       "      <td>br8ba1nu</td>\n",
       "      <td>uw0eeb</td>\n",
       "      <td>41ug157xz</td>\n",
       "      <td>0</td>\n",
       "      <td>bitcoin</td>\n",
       "      <td>American Express</td>\n",
       "      <td>23</td>\n",
       "      <td>0</td>\n",
       "      <td>fulfilled</td>\n",
       "    </tr>\n",
       "    <tr>\n",
       "      <th>4</th>\n",
       "      <td>4</td>\n",
       "      <td>evansjeffery@yahoo.com</td>\n",
       "      <td>a33145ss</td>\n",
       "      <td>bn44oh</td>\n",
       "      <td>y3xp697jx</td>\n",
       "      <td>1</td>\n",
       "      <td>bitcoin</td>\n",
       "      <td>VISA 16 digit</td>\n",
       "      <td>43</td>\n",
       "      <td>1</td>\n",
       "      <td>fulfilled</td>\n",
       "    </tr>\n",
       "  </tbody>\n",
       "</table>\n",
       "</div>"
      ],
      "text/plain": [
       "   Unnamed: 0           customerEmail transactionId orderId paymentMethodId  \\\n",
       "0           0  josephhoward@yahoo.com      a9lcj51r  vjbdvd       wt07xm68b   \n",
       "1           1  josephhoward@yahoo.com      y4wcv03i  yp6x27       wt07xm68b   \n",
       "2           2  evansjeffery@yahoo.com      5mi94sfw  nlghpa       41ug157xz   \n",
       "3           3  evansjeffery@yahoo.com      br8ba1nu  uw0eeb       41ug157xz   \n",
       "4           4  evansjeffery@yahoo.com      a33145ss  bn44oh       y3xp697jx   \n",
       "\n",
       "   paymentMethodRegistrationFailure paymentMethodType paymentMethodProvider  \\\n",
       "0                                 1              card          JCB 16 digit   \n",
       "1                                 1              card          JCB 16 digit   \n",
       "2                                 0           bitcoin      American Express   \n",
       "3                                 0           bitcoin      American Express   \n",
       "4                                 1           bitcoin         VISA 16 digit   \n",
       "\n",
       "   transactionAmount  transactionFailed orderState  \n",
       "0                 18                  0    pending  \n",
       "1                 26                  0  fulfilled  \n",
       "2                 45                  0  fulfilled  \n",
       "3                 23                  0  fulfilled  \n",
       "4                 43                  1  fulfilled  "
      ]
     },
     "execution_count": 6,
     "metadata": {},
     "output_type": "execute_result"
    }
   ],
   "source": [
    "dfb.head()"
   ]
  },
  {
   "cell_type": "code",
   "execution_count": 7,
   "metadata": {},
   "outputs": [],
   "source": [
    "dfa.drop(columns='Unnamed: 0', inplace=True)\n",
    "dfb.drop(columns='Unnamed: 0', inplace=True)"
   ]
  },
  {
   "cell_type": "code",
   "execution_count": 8,
   "metadata": {},
   "outputs": [],
   "source": [
    "########################################################################3"
   ]
  },
  {
   "cell_type": "code",
   "execution_count": 9,
   "metadata": {},
   "outputs": [
    {
     "data": {
      "text/html": [
       "<div>\n",
       "<style scoped>\n",
       "    .dataframe tbody tr th:only-of-type {\n",
       "        vertical-align: middle;\n",
       "    }\n",
       "\n",
       "    .dataframe tbody tr th {\n",
       "        vertical-align: top;\n",
       "    }\n",
       "\n",
       "    .dataframe thead th {\n",
       "        text-align: right;\n",
       "    }\n",
       "</style>\n",
       "<table border=\"1\" class=\"dataframe\">\n",
       "  <thead>\n",
       "    <tr style=\"text-align: right;\">\n",
       "      <th></th>\n",
       "      <th>index</th>\n",
       "      <th>customerEmail</th>\n",
       "      <th>customerPhone</th>\n",
       "      <th>customerDevice</th>\n",
       "      <th>customerIPAddress</th>\n",
       "      <th>customerBillingAddress</th>\n",
       "      <th>No_Transactions</th>\n",
       "      <th>No_Orders</th>\n",
       "      <th>No_Payments</th>\n",
       "      <th>Fraud</th>\n",
       "    </tr>\n",
       "  </thead>\n",
       "  <tbody>\n",
       "    <tr>\n",
       "      <th>0</th>\n",
       "      <td>0</td>\n",
       "      <td>josephhoward@yahoo.com</td>\n",
       "      <td>400-108-5415</td>\n",
       "      <td>yyeiaxpltf82440jnb3v</td>\n",
       "      <td>8.129.104.40</td>\n",
       "      <td>5493 Jones Islands\\nBrownside, CA 51896</td>\n",
       "      <td>2</td>\n",
       "      <td>2</td>\n",
       "      <td>1</td>\n",
       "      <td>False</td>\n",
       "    </tr>\n",
       "    <tr>\n",
       "      <th>1</th>\n",
       "      <td>1</td>\n",
       "      <td>evansjeffery@yahoo.com</td>\n",
       "      <td>1-788-091-7546</td>\n",
       "      <td>r0jpm7xaeqqa3kr6mzum</td>\n",
       "      <td>219.173.211.202</td>\n",
       "      <td>356 Elizabeth Inlet Suite 120\\nPort Joshuabury...</td>\n",
       "      <td>3</td>\n",
       "      <td>3</td>\n",
       "      <td>7</td>\n",
       "      <td>True</td>\n",
       "    </tr>\n",
       "    <tr>\n",
       "      <th>2</th>\n",
       "      <td>2</td>\n",
       "      <td>andersonwilliam@yahoo.com</td>\n",
       "      <td>024.420.0375</td>\n",
       "      <td>4m7h5ipl1shyavt6vv2r</td>\n",
       "      <td>67b7:3db8:67e0:3bea:b9d0:90c1:2b60:b9f0</td>\n",
       "      <td>8478 Sean Ridges Apt. 441\\nDavisberg, PR 72250</td>\n",
       "      <td>5</td>\n",
       "      <td>3</td>\n",
       "      <td>2</td>\n",
       "      <td>False</td>\n",
       "    </tr>\n",
       "    <tr>\n",
       "      <th>3</th>\n",
       "      <td>3</td>\n",
       "      <td>rubenjuarez@yahoo.com</td>\n",
       "      <td>670.664.8168x94985</td>\n",
       "      <td>slovx60t0i558may4ks0</td>\n",
       "      <td>95de:8565:5a66:792c:26e0:6cfb:7d87:11af</td>\n",
       "      <td>7769 Elizabeth Bridge Apt. 343\\nNortonstad, FM...</td>\n",
       "      <td>3</td>\n",
       "      <td>3</td>\n",
       "      <td>1</td>\n",
       "      <td>False</td>\n",
       "    </tr>\n",
       "    <tr>\n",
       "      <th>4</th>\n",
       "      <td>4</td>\n",
       "      <td>uchen@malone.com</td>\n",
       "      <td>1-981-877-0870</td>\n",
       "      <td>j0pd24k5h8dl2fqu0cz4</td>\n",
       "      <td>196.89.235.192</td>\n",
       "      <td>148 Russell Lodge Apt. 445\\nPort Jenniferside,...</td>\n",
       "      <td>7</td>\n",
       "      <td>7</td>\n",
       "      <td>6</td>\n",
       "      <td>True</td>\n",
       "    </tr>\n",
       "    <tr>\n",
       "      <th>...</th>\n",
       "      <td>...</td>\n",
       "      <td>...</td>\n",
       "      <td>...</td>\n",
       "      <td>...</td>\n",
       "      <td>...</td>\n",
       "      <td>...</td>\n",
       "      <td>...</td>\n",
       "      <td>...</td>\n",
       "      <td>...</td>\n",
       "      <td>...</td>\n",
       "    </tr>\n",
       "    <tr>\n",
       "      <th>138</th>\n",
       "      <td>163</td>\n",
       "      <td>mitchellvickie@brewer-jones.com</td>\n",
       "      <td>313-124-3836x3528</td>\n",
       "      <td>ecu7ezz0ue67v3fce1o3</td>\n",
       "      <td>181.90.104.120</td>\n",
       "      <td>829 Ramirez Dam Suite 648\\nGatesview, OR 55669...</td>\n",
       "      <td>3</td>\n",
       "      <td>3</td>\n",
       "      <td>1</td>\n",
       "      <td>True</td>\n",
       "    </tr>\n",
       "    <tr>\n",
       "      <th>139</th>\n",
       "      <td>164</td>\n",
       "      <td>sbrown@hughes.biz</td>\n",
       "      <td>(250)632-6631x02499</td>\n",
       "      <td>xgv918sclaz40qlp2fee</td>\n",
       "      <td>16.166.2.0</td>\n",
       "      <td>9472 Pacheco Islands Suite 940\\nDrewburgh, AZ ...</td>\n",
       "      <td>6</td>\n",
       "      <td>5</td>\n",
       "      <td>3</td>\n",
       "      <td>True</td>\n",
       "    </tr>\n",
       "    <tr>\n",
       "      <th>140</th>\n",
       "      <td>165</td>\n",
       "      <td>johnlowery@gmail.com</td>\n",
       "      <td>635.676.0955x524</td>\n",
       "      <td>969zz9zdj8z4gns4sx5p</td>\n",
       "      <td>f82c:811f:8a02:e2d6:79b:fcaa:42de:570b</td>\n",
       "      <td>548 Bryant Inlet\\nVeronicaside, OK 00522</td>\n",
       "      <td>4</td>\n",
       "      <td>4</td>\n",
       "      <td>2</td>\n",
       "      <td>True</td>\n",
       "    </tr>\n",
       "    <tr>\n",
       "      <th>141</th>\n",
       "      <td>166</td>\n",
       "      <td>ethompson@jackson-sanders.com</td>\n",
       "      <td>962.300.2250</td>\n",
       "      <td>navessqcnmc9csfjn5cj</td>\n",
       "      <td>203.246.172.244</td>\n",
       "      <td>16953 Jennifer Springs\\nKathybury, IL 02095-3215</td>\n",
       "      <td>8</td>\n",
       "      <td>6</td>\n",
       "      <td>6</td>\n",
       "      <td>True</td>\n",
       "    </tr>\n",
       "    <tr>\n",
       "      <th>142</th>\n",
       "      <td>167</td>\n",
       "      <td>dawn05@tucker-brown.com</td>\n",
       "      <td>(089)703-7360x8848</td>\n",
       "      <td>lu4fgcug8dr0dwbcuui1</td>\n",
       "      <td>132.132.95.33</td>\n",
       "      <td>130 Kimberly Junctions\\nEricmouth, KS 59756-2919</td>\n",
       "      <td>7</td>\n",
       "      <td>5</td>\n",
       "      <td>4</td>\n",
       "      <td>False</td>\n",
       "    </tr>\n",
       "  </tbody>\n",
       "</table>\n",
       "<p>143 rows × 10 columns</p>\n",
       "</div>"
      ],
      "text/plain": [
       "     index                    customerEmail        customerPhone  \\\n",
       "0        0           josephhoward@yahoo.com         400-108-5415   \n",
       "1        1           evansjeffery@yahoo.com       1-788-091-7546   \n",
       "2        2        andersonwilliam@yahoo.com         024.420.0375   \n",
       "3        3            rubenjuarez@yahoo.com   670.664.8168x94985   \n",
       "4        4                 uchen@malone.com       1-981-877-0870   \n",
       "..     ...                              ...                  ...   \n",
       "138    163  mitchellvickie@brewer-jones.com    313-124-3836x3528   \n",
       "139    164                sbrown@hughes.biz  (250)632-6631x02499   \n",
       "140    165             johnlowery@gmail.com     635.676.0955x524   \n",
       "141    166    ethompson@jackson-sanders.com         962.300.2250   \n",
       "142    167          dawn05@tucker-brown.com   (089)703-7360x8848   \n",
       "\n",
       "           customerDevice                        customerIPAddress  \\\n",
       "0    yyeiaxpltf82440jnb3v                             8.129.104.40   \n",
       "1    r0jpm7xaeqqa3kr6mzum                          219.173.211.202   \n",
       "2    4m7h5ipl1shyavt6vv2r  67b7:3db8:67e0:3bea:b9d0:90c1:2b60:b9f0   \n",
       "3    slovx60t0i558may4ks0  95de:8565:5a66:792c:26e0:6cfb:7d87:11af   \n",
       "4    j0pd24k5h8dl2fqu0cz4                           196.89.235.192   \n",
       "..                    ...                                      ...   \n",
       "138  ecu7ezz0ue67v3fce1o3                           181.90.104.120   \n",
       "139  xgv918sclaz40qlp2fee                               16.166.2.0   \n",
       "140  969zz9zdj8z4gns4sx5p   f82c:811f:8a02:e2d6:79b:fcaa:42de:570b   \n",
       "141  navessqcnmc9csfjn5cj                          203.246.172.244   \n",
       "142  lu4fgcug8dr0dwbcuui1                            132.132.95.33   \n",
       "\n",
       "                                customerBillingAddress  No_Transactions  \\\n",
       "0              5493 Jones Islands\\nBrownside, CA 51896                2   \n",
       "1    356 Elizabeth Inlet Suite 120\\nPort Joshuabury...                3   \n",
       "2       8478 Sean Ridges Apt. 441\\nDavisberg, PR 72250                5   \n",
       "3    7769 Elizabeth Bridge Apt. 343\\nNortonstad, FM...                3   \n",
       "4    148 Russell Lodge Apt. 445\\nPort Jenniferside,...                7   \n",
       "..                                                 ...              ...   \n",
       "138  829 Ramirez Dam Suite 648\\nGatesview, OR 55669...                3   \n",
       "139  9472 Pacheco Islands Suite 940\\nDrewburgh, AZ ...                6   \n",
       "140           548 Bryant Inlet\\nVeronicaside, OK 00522                4   \n",
       "141   16953 Jennifer Springs\\nKathybury, IL 02095-3215                8   \n",
       "142   130 Kimberly Junctions\\nEricmouth, KS 59756-2919                7   \n",
       "\n",
       "     No_Orders  No_Payments  Fraud  \n",
       "0            2            1  False  \n",
       "1            3            7   True  \n",
       "2            3            2  False  \n",
       "3            3            1  False  \n",
       "4            7            6   True  \n",
       "..         ...          ...    ...  \n",
       "138          3            1   True  \n",
       "139          5            3   True  \n",
       "140          4            2   True  \n",
       "141          6            6   True  \n",
       "142          5            4  False  \n",
       "\n",
       "[143 rows x 10 columns]"
      ]
     },
     "execution_count": 9,
     "metadata": {},
     "output_type": "execute_result"
    }
   ],
   "source": [
    "final = dfa[dfa['customerEmail'].isin(dfb['customerEmail'])== True]\n",
    "final.reset_index(inplace=True)\n",
    "final"
   ]
  },
  {
   "cell_type": "code",
   "execution_count": 10,
   "metadata": {},
   "outputs": [],
   "source": [
    "# Menambahkan Total Transaksi pada Dataframe Final"
   ]
  },
  {
   "cell_type": "code",
   "execution_count": 11,
   "metadata": {},
   "outputs": [],
   "source": [
    "Total_transaction = []\n",
    "for i in range(0,143):\n",
    "    s=0\n",
    "    for j in range(0,623):\n",
    "        if(final['customerEmail'][i]==dfb['customerEmail'][j]):\n",
    "            s += dfb['transactionAmount'][j]\n",
    "    Total_transaction.append(s)  "
   ]
  },
  {
   "cell_type": "code",
   "execution_count": 12,
   "metadata": {},
   "outputs": [],
   "source": [
    "final['Total_transaction'] = Total_transaction"
   ]
  },
  {
   "cell_type": "code",
   "execution_count": 13,
   "metadata": {},
   "outputs": [],
   "source": [
    "# Menambahkan Total Transaksi yang gagal pada Dataframe Final"
   ]
  },
  {
   "cell_type": "code",
   "execution_count": 14,
   "metadata": {},
   "outputs": [],
   "source": [
    "Fail_transaction = []\n",
    "for i in range(0,143):\n",
    "    s=0\n",
    "    for j in range(0,623):\n",
    "        if(final['customerEmail'][i]==dfb['customerEmail'][j]):\n",
    "            s += dfb['transactionFailed'][j]\n",
    "    Fail_transaction.append(s)  "
   ]
  },
  {
   "cell_type": "code",
   "execution_count": 15,
   "metadata": {},
   "outputs": [],
   "source": [
    "final['Fail_transaction'] = Fail_transaction"
   ]
  },
  {
   "cell_type": "code",
   "execution_count": 16,
   "metadata": {},
   "outputs": [],
   "source": [
    "# Menambahkan Payment Method Registration Failure pada Dataframe Final"
   ]
  },
  {
   "cell_type": "code",
   "execution_count": 17,
   "metadata": {},
   "outputs": [],
   "source": [
    "PaymentRegFail = []\n",
    "for i in range(0,143):\n",
    "    s=0\n",
    "    for j in range(0,623):\n",
    "        if(final['customerEmail'][i]==dfb['customerEmail'][j]):\n",
    "            s += dfb['paymentMethodRegistrationFailure'][j]\n",
    "    PaymentRegFail.append(s)  "
   ]
  },
  {
   "cell_type": "code",
   "execution_count": 18,
   "metadata": {},
   "outputs": [],
   "source": [
    "final['PaymentRegFail'] = PaymentRegFail"
   ]
  },
  {
   "cell_type": "code",
   "execution_count": 19,
   "metadata": {},
   "outputs": [],
   "source": [
    "# Membuat def function untuk kolom kategorikal pada dfb"
   ]
  },
  {
   "cell_type": "code",
   "execution_count": 20,
   "metadata": {},
   "outputs": [],
   "source": [
    "def col_make(column_name,category):\n",
    "    isi = []\n",
    "    for i in range(0,143):\n",
    "        s=0\n",
    "        for j in range(0,623):\n",
    "            if(final['customerEmail'][i]==dfb['customerEmail'][j]):\n",
    "                if dfb[column_name][j]==category:\n",
    "                    s+=1\n",
    "        isi.append(s)\n",
    "    return isi "
   ]
  },
  {
   "cell_type": "code",
   "execution_count": 21,
   "metadata": {},
   "outputs": [],
   "source": [
    "# Menambahkan Payment Method Type pada Dataframe Final"
   ]
  },
  {
   "cell_type": "code",
   "execution_count": 22,
   "metadata": {},
   "outputs": [
    {
     "data": {
      "text/plain": [
       "array(['card', 'bitcoin', 'apple pay', 'paypal'], dtype=object)"
      ]
     },
     "execution_count": 22,
     "metadata": {},
     "output_type": "execute_result"
    }
   ],
   "source": [
    "dfb['paymentMethodType'].unique()"
   ]
  },
  {
   "cell_type": "code",
   "execution_count": 23,
   "metadata": {},
   "outputs": [],
   "source": [
    "PaypalPayments = col_make('paymentMethodType','paypal')\n",
    "ApplePayments = col_make('paymentMethodType','apple pay')\n",
    "BitcoinPayments = col_make('paymentMethodType','bitcoin')\n",
    "CardPayments = col_make('paymentMethodType','card')"
   ]
  },
  {
   "cell_type": "code",
   "execution_count": 24,
   "metadata": {},
   "outputs": [],
   "source": [
    "final['PaypalPayments']= PaypalPayments\n",
    "final['ApplePayments']= ApplePayments\n",
    "final['CardPayments']= CardPayments\n",
    "final['BitcoinPayments']= BitcoinPayments"
   ]
  },
  {
   "cell_type": "code",
   "execution_count": 25,
   "metadata": {},
   "outputs": [],
   "source": [
    "# Menambahkan Payment Method Provider pada Dataframe Final"
   ]
  },
  {
   "cell_type": "code",
   "execution_count": 26,
   "metadata": {},
   "outputs": [
    {
     "data": {
      "text/plain": [
       "array(['JCB 16 digit', 'American Express', 'VISA 16 digit', 'Discover',\n",
       "       'Voyager', 'VISA 13 digit', 'Maestro', 'Mastercard',\n",
       "       'Diners Club / Carte Blanche', 'JCB 15 digit'], dtype=object)"
      ]
     },
     "execution_count": 26,
     "metadata": {},
     "output_type": "execute_result"
    }
   ],
   "source": [
    "dfb['paymentMethodProvider'].unique()"
   ]
  },
  {
   "cell_type": "code",
   "execution_count": 27,
   "metadata": {},
   "outputs": [],
   "source": [
    "JCB_16 = col_make('paymentMethodProvider','JCB 16 digit')\n",
    "AmericanExp = col_make('paymentMethodProvider','American Express')\n",
    "VISA_16 = col_make('paymentMethodProvider','VISA 16 digit')\n",
    "Discover = col_make('paymentMethodProvider','Discover')\n",
    "Voyager = col_make('paymentMethodProvider','Voyager')\n",
    "VISA_13 = col_make('paymentMethodProvider','VISA 13 digit')\n",
    "Maestro = col_make('paymentMethodProvider','Maestro')\n",
    "Mastercard = col_make('paymentMethodProvider','Mastercard')\n",
    "DC_CB = col_make('paymentMethodProvider','Diners Club / Carte Blanche')\n",
    "JCB_15= col_make('paymentMethodProvider','JCB 15 digit')"
   ]
  },
  {
   "cell_type": "code",
   "execution_count": 28,
   "metadata": {},
   "outputs": [],
   "source": [
    "final['JCB_16'] = JCB_16\n",
    "final['AmericanExp'] = AmericanExp \n",
    "final['VISA_16'] = VISA_16 \n",
    "final['Discover'] = Discover\n",
    "final['Voyager'] = Voyager \n",
    "final['VISA_13'] = VISA_13\n",
    "final['Maestro'] = Maestro \n",
    "final['Mastercard'] = Mastercard\n",
    "final['DC_CB'] = DC_CB \n",
    "final['JCB_15'] = JCB_15"
   ]
  },
  {
   "cell_type": "code",
   "execution_count": 29,
   "metadata": {},
   "outputs": [],
   "source": [
    "# Menambahkan Order State pada Dataframe Final"
   ]
  },
  {
   "cell_type": "code",
   "execution_count": 30,
   "metadata": {},
   "outputs": [
    {
     "data": {
      "text/plain": [
       "array(['pending', 'fulfilled', 'failed'], dtype=object)"
      ]
     },
     "execution_count": 30,
     "metadata": {},
     "output_type": "execute_result"
    }
   ],
   "source": [
    "dfb['orderState'].unique()"
   ]
  },
  {
   "cell_type": "code",
   "execution_count": 31,
   "metadata": {},
   "outputs": [],
   "source": [
    "OrdersFulfilled = col_make('orderState','fulfilled')\n",
    "OrdersFailed =  col_make('orderState','failed')\n",
    "OrdersPending = col_make('orderState','pending')"
   ]
  },
  {
   "cell_type": "code",
   "execution_count": 32,
   "metadata": {},
   "outputs": [],
   "source": [
    "final['OrdersFulfilled'] = OrdersFulfilled\n",
    "final['OrdersPending'] = OrdersPending\n",
    "final['OrdersFailed'] = OrdersFailed"
   ]
  },
  {
   "cell_type": "code",
   "execution_count": 33,
   "metadata": {},
   "outputs": [],
   "source": [
    "# Menambahkan Kolom untuk Transaksi failed tetapi order fulfilled pada Dataframe Final"
   ]
  },
  {
   "cell_type": "code",
   "execution_count": 34,
   "metadata": {},
   "outputs": [],
   "source": [
    "Trns_fail_order_fulfilled = []\n",
    "for i in range(0,143):\n",
    "    s=0\n",
    "    for j in range(0,623):\n",
    "        if(final['customerEmail'][i]==dfb['customerEmail'][j]):\n",
    "            if (dfb['orderState'][j]=='fulfilled') & (dfb['transactionFailed'][j]==1):\n",
    "                s+=1\n",
    "    Trns_fail_order_fulfilled.append(s)"
   ]
  },
  {
   "cell_type": "code",
   "execution_count": 35,
   "metadata": {},
   "outputs": [],
   "source": [
    "final['Trns_fail_order_fulfilled'] = Trns_fail_order_fulfilled"
   ]
  },
  {
   "cell_type": "code",
   "execution_count": 36,
   "metadata": {},
   "outputs": [],
   "source": [
    "# Menambahkan kolom untuk mengecek duplikasi IP"
   ]
  },
  {
   "cell_type": "code",
   "execution_count": 37,
   "metadata": {},
   "outputs": [],
   "source": [
    "Duplicate_IP = []\n",
    "for i in range(0,143):\n",
    "    s=0\n",
    "    for j in range(0,143):\n",
    "        if(final['customerIPAddress'][i]==final['customerIPAddress'][j]):\n",
    "            s+=1\n",
    "    s-=1        \n",
    "    Duplicate_IP.append(s)"
   ]
  },
  {
   "cell_type": "code",
   "execution_count": 38,
   "metadata": {},
   "outputs": [],
   "source": [
    "final['Duplicate_IP'] = Duplicate_IP"
   ]
  },
  {
   "cell_type": "code",
   "execution_count": 39,
   "metadata": {},
   "outputs": [],
   "source": [
    "# Menambahkan kolom untuk mengecek duplikasi Address"
   ]
  },
  {
   "cell_type": "code",
   "execution_count": 40,
   "metadata": {},
   "outputs": [],
   "source": [
    "Duplicate_Address = []\n",
    "for i in range(0,143):\n",
    "    s=0\n",
    "    for j in range(0,143):\n",
    "        if(final['customerBillingAddress'][i]==final['customerBillingAddress'][j]):\n",
    "            s+=1\n",
    "    s-=1        \n",
    "    Duplicate_Address.append(s)"
   ]
  },
  {
   "cell_type": "code",
   "execution_count": 41,
   "metadata": {},
   "outputs": [],
   "source": [
    "final['Duplicate_Address'] = Duplicate_Address"
   ]
  },
  {
   "cell_type": "code",
   "execution_count": 42,
   "metadata": {},
   "outputs": [],
   "source": [
    "# Encoding Labelling untuk kolom Fraud"
   ]
  },
  {
   "cell_type": "code",
   "execution_count": 43,
   "metadata": {},
   "outputs": [],
   "source": [
    "final['Fraud'] = final['Fraud'].map({False : 0, True : 1})"
   ]
  },
  {
   "cell_type": "code",
   "execution_count": 44,
   "metadata": {},
   "outputs": [
    {
     "data": {
      "text/html": [
       "<div>\n",
       "<style scoped>\n",
       "    .dataframe tbody tr th:only-of-type {\n",
       "        vertical-align: middle;\n",
       "    }\n",
       "\n",
       "    .dataframe tbody tr th {\n",
       "        vertical-align: top;\n",
       "    }\n",
       "\n",
       "    .dataframe thead th {\n",
       "        text-align: right;\n",
       "    }\n",
       "</style>\n",
       "<table border=\"1\" class=\"dataframe\">\n",
       "  <thead>\n",
       "    <tr style=\"text-align: right;\">\n",
       "      <th>col_0</th>\n",
       "      <th>Total</th>\n",
       "    </tr>\n",
       "    <tr>\n",
       "      <th>Fraud</th>\n",
       "      <th></th>\n",
       "    </tr>\n",
       "  </thead>\n",
       "  <tbody>\n",
       "    <tr>\n",
       "      <th>0</th>\n",
       "      <td>0.608392</td>\n",
       "    </tr>\n",
       "    <tr>\n",
       "      <th>1</th>\n",
       "      <td>0.391608</td>\n",
       "    </tr>\n",
       "  </tbody>\n",
       "</table>\n",
       "</div>"
      ],
      "text/plain": [
       "col_0     Total\n",
       "Fraud          \n",
       "0      0.608392\n",
       "1      0.391608"
      ]
     },
     "execution_count": 44,
     "metadata": {},
     "output_type": "execute_result"
    }
   ],
   "source": [
    "pd.crosstab(index=final['Fraud'], columns='Total', normalize=True)"
   ]
  },
  {
   "cell_type": "code",
   "execution_count": 45,
   "metadata": {},
   "outputs": [],
   "source": [
    "final.drop(columns='index',inplace=True)"
   ]
  },
  {
   "cell_type": "code",
   "execution_count": 46,
   "metadata": {},
   "outputs": [
    {
     "data": {
      "text/html": [
       "<div>\n",
       "<style scoped>\n",
       "    .dataframe tbody tr th:only-of-type {\n",
       "        vertical-align: middle;\n",
       "    }\n",
       "\n",
       "    .dataframe tbody tr th {\n",
       "        vertical-align: top;\n",
       "    }\n",
       "\n",
       "    .dataframe thead th {\n",
       "        text-align: right;\n",
       "    }\n",
       "</style>\n",
       "<table border=\"1\" class=\"dataframe\">\n",
       "  <thead>\n",
       "    <tr style=\"text-align: right;\">\n",
       "      <th></th>\n",
       "      <th>customerEmail</th>\n",
       "      <th>customerPhone</th>\n",
       "      <th>customerDevice</th>\n",
       "      <th>customerIPAddress</th>\n",
       "      <th>customerBillingAddress</th>\n",
       "      <th>No_Transactions</th>\n",
       "      <th>No_Orders</th>\n",
       "      <th>No_Payments</th>\n",
       "      <th>Fraud</th>\n",
       "      <th>Total_transaction</th>\n",
       "      <th>Fail_transaction</th>\n",
       "      <th>PaymentRegFail</th>\n",
       "      <th>PaypalPayments</th>\n",
       "      <th>ApplePayments</th>\n",
       "      <th>CardPayments</th>\n",
       "      <th>BitcoinPayments</th>\n",
       "      <th>JCB_16</th>\n",
       "      <th>AmericanExp</th>\n",
       "      <th>VISA_16</th>\n",
       "      <th>Discover</th>\n",
       "      <th>Voyager</th>\n",
       "      <th>VISA_13</th>\n",
       "      <th>Maestro</th>\n",
       "      <th>Mastercard</th>\n",
       "      <th>DC_CB</th>\n",
       "      <th>JCB_15</th>\n",
       "      <th>OrdersFulfilled</th>\n",
       "      <th>OrdersPending</th>\n",
       "      <th>OrdersFailed</th>\n",
       "      <th>Trns_fail_order_fulfilled</th>\n",
       "      <th>Duplicate_IP</th>\n",
       "      <th>Duplicate_Address</th>\n",
       "    </tr>\n",
       "  </thead>\n",
       "  <tbody>\n",
       "    <tr>\n",
       "      <th>0</th>\n",
       "      <td>josephhoward@yahoo.com</td>\n",
       "      <td>400-108-5415</td>\n",
       "      <td>yyeiaxpltf82440jnb3v</td>\n",
       "      <td>8.129.104.40</td>\n",
       "      <td>5493 Jones Islands\\nBrownside, CA 51896</td>\n",
       "      <td>2</td>\n",
       "      <td>2</td>\n",
       "      <td>1</td>\n",
       "      <td>0</td>\n",
       "      <td>44</td>\n",
       "      <td>0</td>\n",
       "      <td>2</td>\n",
       "      <td>0</td>\n",
       "      <td>0</td>\n",
       "      <td>2</td>\n",
       "      <td>0</td>\n",
       "      <td>2</td>\n",
       "      <td>0</td>\n",
       "      <td>0</td>\n",
       "      <td>0</td>\n",
       "      <td>0</td>\n",
       "      <td>0</td>\n",
       "      <td>0</td>\n",
       "      <td>0</td>\n",
       "      <td>0</td>\n",
       "      <td>0</td>\n",
       "      <td>1</td>\n",
       "      <td>1</td>\n",
       "      <td>0</td>\n",
       "      <td>0</td>\n",
       "      <td>0</td>\n",
       "      <td>0</td>\n",
       "    </tr>\n",
       "    <tr>\n",
       "      <th>1</th>\n",
       "      <td>evansjeffery@yahoo.com</td>\n",
       "      <td>1-788-091-7546</td>\n",
       "      <td>r0jpm7xaeqqa3kr6mzum</td>\n",
       "      <td>219.173.211.202</td>\n",
       "      <td>356 Elizabeth Inlet Suite 120\\nPort Joshuabury...</td>\n",
       "      <td>3</td>\n",
       "      <td>3</td>\n",
       "      <td>7</td>\n",
       "      <td>1</td>\n",
       "      <td>111</td>\n",
       "      <td>1</td>\n",
       "      <td>1</td>\n",
       "      <td>0</td>\n",
       "      <td>0</td>\n",
       "      <td>0</td>\n",
       "      <td>3</td>\n",
       "      <td>0</td>\n",
       "      <td>2</td>\n",
       "      <td>1</td>\n",
       "      <td>0</td>\n",
       "      <td>0</td>\n",
       "      <td>0</td>\n",
       "      <td>0</td>\n",
       "      <td>0</td>\n",
       "      <td>0</td>\n",
       "      <td>0</td>\n",
       "      <td>3</td>\n",
       "      <td>0</td>\n",
       "      <td>0</td>\n",
       "      <td>1</td>\n",
       "      <td>0</td>\n",
       "      <td>0</td>\n",
       "    </tr>\n",
       "    <tr>\n",
       "      <th>2</th>\n",
       "      <td>andersonwilliam@yahoo.com</td>\n",
       "      <td>024.420.0375</td>\n",
       "      <td>4m7h5ipl1shyavt6vv2r</td>\n",
       "      <td>67b7:3db8:67e0:3bea:b9d0:90c1:2b60:b9f0</td>\n",
       "      <td>8478 Sean Ridges Apt. 441\\nDavisberg, PR 72250</td>\n",
       "      <td>5</td>\n",
       "      <td>3</td>\n",
       "      <td>2</td>\n",
       "      <td>0</td>\n",
       "      <td>131</td>\n",
       "      <td>2</td>\n",
       "      <td>0</td>\n",
       "      <td>0</td>\n",
       "      <td>0</td>\n",
       "      <td>5</td>\n",
       "      <td>0</td>\n",
       "      <td>4</td>\n",
       "      <td>0</td>\n",
       "      <td>0</td>\n",
       "      <td>1</td>\n",
       "      <td>0</td>\n",
       "      <td>0</td>\n",
       "      <td>0</td>\n",
       "      <td>0</td>\n",
       "      <td>0</td>\n",
       "      <td>0</td>\n",
       "      <td>4</td>\n",
       "      <td>0</td>\n",
       "      <td>1</td>\n",
       "      <td>2</td>\n",
       "      <td>0</td>\n",
       "      <td>0</td>\n",
       "    </tr>\n",
       "    <tr>\n",
       "      <th>3</th>\n",
       "      <td>rubenjuarez@yahoo.com</td>\n",
       "      <td>670.664.8168x94985</td>\n",
       "      <td>slovx60t0i558may4ks0</td>\n",
       "      <td>95de:8565:5a66:792c:26e0:6cfb:7d87:11af</td>\n",
       "      <td>7769 Elizabeth Bridge Apt. 343\\nNortonstad, FM...</td>\n",
       "      <td>3</td>\n",
       "      <td>3</td>\n",
       "      <td>1</td>\n",
       "      <td>0</td>\n",
       "      <td>85</td>\n",
       "      <td>0</td>\n",
       "      <td>0</td>\n",
       "      <td>0</td>\n",
       "      <td>0</td>\n",
       "      <td>3</td>\n",
       "      <td>0</td>\n",
       "      <td>0</td>\n",
       "      <td>0</td>\n",
       "      <td>0</td>\n",
       "      <td>0</td>\n",
       "      <td>3</td>\n",
       "      <td>0</td>\n",
       "      <td>0</td>\n",
       "      <td>0</td>\n",
       "      <td>0</td>\n",
       "      <td>0</td>\n",
       "      <td>3</td>\n",
       "      <td>0</td>\n",
       "      <td>0</td>\n",
       "      <td>0</td>\n",
       "      <td>0</td>\n",
       "      <td>0</td>\n",
       "    </tr>\n",
       "    <tr>\n",
       "      <th>4</th>\n",
       "      <td>uchen@malone.com</td>\n",
       "      <td>1-981-877-0870</td>\n",
       "      <td>j0pd24k5h8dl2fqu0cz4</td>\n",
       "      <td>196.89.235.192</td>\n",
       "      <td>148 Russell Lodge Apt. 445\\nPort Jenniferside,...</td>\n",
       "      <td>7</td>\n",
       "      <td>7</td>\n",
       "      <td>6</td>\n",
       "      <td>1</td>\n",
       "      <td>411</td>\n",
       "      <td>2</td>\n",
       "      <td>0</td>\n",
       "      <td>0</td>\n",
       "      <td>3</td>\n",
       "      <td>4</td>\n",
       "      <td>0</td>\n",
       "      <td>3</td>\n",
       "      <td>1</td>\n",
       "      <td>2</td>\n",
       "      <td>0</td>\n",
       "      <td>0</td>\n",
       "      <td>1</td>\n",
       "      <td>0</td>\n",
       "      <td>0</td>\n",
       "      <td>0</td>\n",
       "      <td>0</td>\n",
       "      <td>6</td>\n",
       "      <td>0</td>\n",
       "      <td>1</td>\n",
       "      <td>2</td>\n",
       "      <td>0</td>\n",
       "      <td>0</td>\n",
       "    </tr>\n",
       "    <tr>\n",
       "      <th>...</th>\n",
       "      <td>...</td>\n",
       "      <td>...</td>\n",
       "      <td>...</td>\n",
       "      <td>...</td>\n",
       "      <td>...</td>\n",
       "      <td>...</td>\n",
       "      <td>...</td>\n",
       "      <td>...</td>\n",
       "      <td>...</td>\n",
       "      <td>...</td>\n",
       "      <td>...</td>\n",
       "      <td>...</td>\n",
       "      <td>...</td>\n",
       "      <td>...</td>\n",
       "      <td>...</td>\n",
       "      <td>...</td>\n",
       "      <td>...</td>\n",
       "      <td>...</td>\n",
       "      <td>...</td>\n",
       "      <td>...</td>\n",
       "      <td>...</td>\n",
       "      <td>...</td>\n",
       "      <td>...</td>\n",
       "      <td>...</td>\n",
       "      <td>...</td>\n",
       "      <td>...</td>\n",
       "      <td>...</td>\n",
       "      <td>...</td>\n",
       "      <td>...</td>\n",
       "      <td>...</td>\n",
       "      <td>...</td>\n",
       "      <td>...</td>\n",
       "    </tr>\n",
       "    <tr>\n",
       "      <th>138</th>\n",
       "      <td>mitchellvickie@brewer-jones.com</td>\n",
       "      <td>313-124-3836x3528</td>\n",
       "      <td>ecu7ezz0ue67v3fce1o3</td>\n",
       "      <td>181.90.104.120</td>\n",
       "      <td>829 Ramirez Dam Suite 648\\nGatesview, OR 55669...</td>\n",
       "      <td>3</td>\n",
       "      <td>3</td>\n",
       "      <td>1</td>\n",
       "      <td>1</td>\n",
       "      <td>126</td>\n",
       "      <td>0</td>\n",
       "      <td>0</td>\n",
       "      <td>0</td>\n",
       "      <td>0</td>\n",
       "      <td>3</td>\n",
       "      <td>0</td>\n",
       "      <td>3</td>\n",
       "      <td>0</td>\n",
       "      <td>0</td>\n",
       "      <td>0</td>\n",
       "      <td>0</td>\n",
       "      <td>0</td>\n",
       "      <td>0</td>\n",
       "      <td>0</td>\n",
       "      <td>0</td>\n",
       "      <td>0</td>\n",
       "      <td>2</td>\n",
       "      <td>0</td>\n",
       "      <td>1</td>\n",
       "      <td>0</td>\n",
       "      <td>0</td>\n",
       "      <td>0</td>\n",
       "    </tr>\n",
       "    <tr>\n",
       "      <th>139</th>\n",
       "      <td>sbrown@hughes.biz</td>\n",
       "      <td>(250)632-6631x02499</td>\n",
       "      <td>xgv918sclaz40qlp2fee</td>\n",
       "      <td>16.166.2.0</td>\n",
       "      <td>9472 Pacheco Islands Suite 940\\nDrewburgh, AZ ...</td>\n",
       "      <td>6</td>\n",
       "      <td>5</td>\n",
       "      <td>3</td>\n",
       "      <td>1</td>\n",
       "      <td>149</td>\n",
       "      <td>1</td>\n",
       "      <td>0</td>\n",
       "      <td>0</td>\n",
       "      <td>0</td>\n",
       "      <td>6</td>\n",
       "      <td>0</td>\n",
       "      <td>0</td>\n",
       "      <td>0</td>\n",
       "      <td>0</td>\n",
       "      <td>1</td>\n",
       "      <td>5</td>\n",
       "      <td>0</td>\n",
       "      <td>0</td>\n",
       "      <td>0</td>\n",
       "      <td>0</td>\n",
       "      <td>0</td>\n",
       "      <td>6</td>\n",
       "      <td>0</td>\n",
       "      <td>0</td>\n",
       "      <td>1</td>\n",
       "      <td>0</td>\n",
       "      <td>0</td>\n",
       "    </tr>\n",
       "    <tr>\n",
       "      <th>140</th>\n",
       "      <td>johnlowery@gmail.com</td>\n",
       "      <td>635.676.0955x524</td>\n",
       "      <td>969zz9zdj8z4gns4sx5p</td>\n",
       "      <td>f82c:811f:8a02:e2d6:79b:fcaa:42de:570b</td>\n",
       "      <td>548 Bryant Inlet\\nVeronicaside, OK 00522</td>\n",
       "      <td>4</td>\n",
       "      <td>4</td>\n",
       "      <td>2</td>\n",
       "      <td>1</td>\n",
       "      <td>1033</td>\n",
       "      <td>6</td>\n",
       "      <td>0</td>\n",
       "      <td>1</td>\n",
       "      <td>0</td>\n",
       "      <td>24</td>\n",
       "      <td>3</td>\n",
       "      <td>7</td>\n",
       "      <td>3</td>\n",
       "      <td>10</td>\n",
       "      <td>0</td>\n",
       "      <td>3</td>\n",
       "      <td>0</td>\n",
       "      <td>5</td>\n",
       "      <td>0</td>\n",
       "      <td>0</td>\n",
       "      <td>0</td>\n",
       "      <td>25</td>\n",
       "      <td>0</td>\n",
       "      <td>3</td>\n",
       "      <td>5</td>\n",
       "      <td>0</td>\n",
       "      <td>0</td>\n",
       "    </tr>\n",
       "    <tr>\n",
       "      <th>141</th>\n",
       "      <td>ethompson@jackson-sanders.com</td>\n",
       "      <td>962.300.2250</td>\n",
       "      <td>navessqcnmc9csfjn5cj</td>\n",
       "      <td>203.246.172.244</td>\n",
       "      <td>16953 Jennifer Springs\\nKathybury, IL 02095-3215</td>\n",
       "      <td>8</td>\n",
       "      <td>6</td>\n",
       "      <td>6</td>\n",
       "      <td>1</td>\n",
       "      <td>378</td>\n",
       "      <td>2</td>\n",
       "      <td>0</td>\n",
       "      <td>0</td>\n",
       "      <td>0</td>\n",
       "      <td>6</td>\n",
       "      <td>2</td>\n",
       "      <td>2</td>\n",
       "      <td>2</td>\n",
       "      <td>0</td>\n",
       "      <td>0</td>\n",
       "      <td>3</td>\n",
       "      <td>0</td>\n",
       "      <td>1</td>\n",
       "      <td>0</td>\n",
       "      <td>0</td>\n",
       "      <td>0</td>\n",
       "      <td>7</td>\n",
       "      <td>0</td>\n",
       "      <td>1</td>\n",
       "      <td>2</td>\n",
       "      <td>0</td>\n",
       "      <td>0</td>\n",
       "    </tr>\n",
       "    <tr>\n",
       "      <th>142</th>\n",
       "      <td>dawn05@tucker-brown.com</td>\n",
       "      <td>(089)703-7360x8848</td>\n",
       "      <td>lu4fgcug8dr0dwbcuui1</td>\n",
       "      <td>132.132.95.33</td>\n",
       "      <td>130 Kimberly Junctions\\nEricmouth, KS 59756-2919</td>\n",
       "      <td>7</td>\n",
       "      <td>5</td>\n",
       "      <td>4</td>\n",
       "      <td>0</td>\n",
       "      <td>176</td>\n",
       "      <td>2</td>\n",
       "      <td>0</td>\n",
       "      <td>3</td>\n",
       "      <td>0</td>\n",
       "      <td>4</td>\n",
       "      <td>0</td>\n",
       "      <td>1</td>\n",
       "      <td>0</td>\n",
       "      <td>0</td>\n",
       "      <td>0</td>\n",
       "      <td>0</td>\n",
       "      <td>3</td>\n",
       "      <td>0</td>\n",
       "      <td>0</td>\n",
       "      <td>0</td>\n",
       "      <td>3</td>\n",
       "      <td>7</td>\n",
       "      <td>0</td>\n",
       "      <td>0</td>\n",
       "      <td>2</td>\n",
       "      <td>0</td>\n",
       "      <td>0</td>\n",
       "    </tr>\n",
       "  </tbody>\n",
       "</table>\n",
       "<p>143 rows × 32 columns</p>\n",
       "</div>"
      ],
      "text/plain": [
       "                       customerEmail        customerPhone  \\\n",
       "0             josephhoward@yahoo.com         400-108-5415   \n",
       "1             evansjeffery@yahoo.com       1-788-091-7546   \n",
       "2          andersonwilliam@yahoo.com         024.420.0375   \n",
       "3              rubenjuarez@yahoo.com   670.664.8168x94985   \n",
       "4                   uchen@malone.com       1-981-877-0870   \n",
       "..                               ...                  ...   \n",
       "138  mitchellvickie@brewer-jones.com    313-124-3836x3528   \n",
       "139                sbrown@hughes.biz  (250)632-6631x02499   \n",
       "140             johnlowery@gmail.com     635.676.0955x524   \n",
       "141    ethompson@jackson-sanders.com         962.300.2250   \n",
       "142          dawn05@tucker-brown.com   (089)703-7360x8848   \n",
       "\n",
       "           customerDevice                        customerIPAddress  \\\n",
       "0    yyeiaxpltf82440jnb3v                             8.129.104.40   \n",
       "1    r0jpm7xaeqqa3kr6mzum                          219.173.211.202   \n",
       "2    4m7h5ipl1shyavt6vv2r  67b7:3db8:67e0:3bea:b9d0:90c1:2b60:b9f0   \n",
       "3    slovx60t0i558may4ks0  95de:8565:5a66:792c:26e0:6cfb:7d87:11af   \n",
       "4    j0pd24k5h8dl2fqu0cz4                           196.89.235.192   \n",
       "..                    ...                                      ...   \n",
       "138  ecu7ezz0ue67v3fce1o3                           181.90.104.120   \n",
       "139  xgv918sclaz40qlp2fee                               16.166.2.0   \n",
       "140  969zz9zdj8z4gns4sx5p   f82c:811f:8a02:e2d6:79b:fcaa:42de:570b   \n",
       "141  navessqcnmc9csfjn5cj                          203.246.172.244   \n",
       "142  lu4fgcug8dr0dwbcuui1                            132.132.95.33   \n",
       "\n",
       "                                customerBillingAddress  No_Transactions  \\\n",
       "0              5493 Jones Islands\\nBrownside, CA 51896                2   \n",
       "1    356 Elizabeth Inlet Suite 120\\nPort Joshuabury...                3   \n",
       "2       8478 Sean Ridges Apt. 441\\nDavisberg, PR 72250                5   \n",
       "3    7769 Elizabeth Bridge Apt. 343\\nNortonstad, FM...                3   \n",
       "4    148 Russell Lodge Apt. 445\\nPort Jenniferside,...                7   \n",
       "..                                                 ...              ...   \n",
       "138  829 Ramirez Dam Suite 648\\nGatesview, OR 55669...                3   \n",
       "139  9472 Pacheco Islands Suite 940\\nDrewburgh, AZ ...                6   \n",
       "140           548 Bryant Inlet\\nVeronicaside, OK 00522                4   \n",
       "141   16953 Jennifer Springs\\nKathybury, IL 02095-3215                8   \n",
       "142   130 Kimberly Junctions\\nEricmouth, KS 59756-2919                7   \n",
       "\n",
       "     No_Orders  No_Payments  Fraud  Total_transaction  Fail_transaction  \\\n",
       "0            2            1      0                 44                 0   \n",
       "1            3            7      1                111                 1   \n",
       "2            3            2      0                131                 2   \n",
       "3            3            1      0                 85                 0   \n",
       "4            7            6      1                411                 2   \n",
       "..         ...          ...    ...                ...               ...   \n",
       "138          3            1      1                126                 0   \n",
       "139          5            3      1                149                 1   \n",
       "140          4            2      1               1033                 6   \n",
       "141          6            6      1                378                 2   \n",
       "142          5            4      0                176                 2   \n",
       "\n",
       "     PaymentRegFail  PaypalPayments  ApplePayments  CardPayments  \\\n",
       "0                 2               0              0             2   \n",
       "1                 1               0              0             0   \n",
       "2                 0               0              0             5   \n",
       "3                 0               0              0             3   \n",
       "4                 0               0              3             4   \n",
       "..              ...             ...            ...           ...   \n",
       "138               0               0              0             3   \n",
       "139               0               0              0             6   \n",
       "140               0               1              0            24   \n",
       "141               0               0              0             6   \n",
       "142               0               3              0             4   \n",
       "\n",
       "     BitcoinPayments  JCB_16  AmericanExp  VISA_16  Discover  Voyager  \\\n",
       "0                  0       2            0        0         0        0   \n",
       "1                  3       0            2        1         0        0   \n",
       "2                  0       4            0        0         1        0   \n",
       "3                  0       0            0        0         0        3   \n",
       "4                  0       3            1        2         0        0   \n",
       "..               ...     ...          ...      ...       ...      ...   \n",
       "138                0       3            0        0         0        0   \n",
       "139                0       0            0        0         1        5   \n",
       "140                3       7            3       10         0        3   \n",
       "141                2       2            2        0         0        3   \n",
       "142                0       1            0        0         0        0   \n",
       "\n",
       "     VISA_13  Maestro  Mastercard  DC_CB  JCB_15  OrdersFulfilled  \\\n",
       "0          0        0           0      0       0                1   \n",
       "1          0        0           0      0       0                3   \n",
       "2          0        0           0      0       0                4   \n",
       "3          0        0           0      0       0                3   \n",
       "4          1        0           0      0       0                6   \n",
       "..       ...      ...         ...    ...     ...              ...   \n",
       "138        0        0           0      0       0                2   \n",
       "139        0        0           0      0       0                6   \n",
       "140        0        5           0      0       0               25   \n",
       "141        0        1           0      0       0                7   \n",
       "142        3        0           0      0       3                7   \n",
       "\n",
       "     OrdersPending  OrdersFailed  Trns_fail_order_fulfilled  Duplicate_IP  \\\n",
       "0                1             0                          0             0   \n",
       "1                0             0                          1             0   \n",
       "2                0             1                          2             0   \n",
       "3                0             0                          0             0   \n",
       "4                0             1                          2             0   \n",
       "..             ...           ...                        ...           ...   \n",
       "138              0             1                          0             0   \n",
       "139              0             0                          1             0   \n",
       "140              0             3                          5             0   \n",
       "141              0             1                          2             0   \n",
       "142              0             0                          2             0   \n",
       "\n",
       "     Duplicate_Address  \n",
       "0                    0  \n",
       "1                    0  \n",
       "2                    0  \n",
       "3                    0  \n",
       "4                    0  \n",
       "..                 ...  \n",
       "138                  0  \n",
       "139                  0  \n",
       "140                  0  \n",
       "141                  0  \n",
       "142                  0  \n",
       "\n",
       "[143 rows x 32 columns]"
      ]
     },
     "execution_count": 46,
     "metadata": {},
     "output_type": "execute_result"
    }
   ],
   "source": [
    "final"
   ]
  },
  {
   "cell_type": "code",
   "execution_count": 47,
   "metadata": {},
   "outputs": [
    {
     "name": "stdout",
     "output_type": "stream",
     "text": [
      "<class 'pandas.core.frame.DataFrame'>\n",
      "RangeIndex: 143 entries, 0 to 142\n",
      "Data columns (total 32 columns):\n",
      " #   Column                     Non-Null Count  Dtype \n",
      "---  ------                     --------------  ----- \n",
      " 0   customerEmail              143 non-null    object\n",
      " 1   customerPhone              143 non-null    object\n",
      " 2   customerDevice             143 non-null    object\n",
      " 3   customerIPAddress          143 non-null    object\n",
      " 4   customerBillingAddress     143 non-null    object\n",
      " 5   No_Transactions            143 non-null    int64 \n",
      " 6   No_Orders                  143 non-null    int64 \n",
      " 7   No_Payments                143 non-null    int64 \n",
      " 8   Fraud                      143 non-null    int64 \n",
      " 9   Total_transaction          143 non-null    int64 \n",
      " 10  Fail_transaction           143 non-null    int64 \n",
      " 11  PaymentRegFail             143 non-null    int64 \n",
      " 12  PaypalPayments             143 non-null    int64 \n",
      " 13  ApplePayments              143 non-null    int64 \n",
      " 14  CardPayments               143 non-null    int64 \n",
      " 15  BitcoinPayments            143 non-null    int64 \n",
      " 16  JCB_16                     143 non-null    int64 \n",
      " 17  AmericanExp                143 non-null    int64 \n",
      " 18  VISA_16                    143 non-null    int64 \n",
      " 19  Discover                   143 non-null    int64 \n",
      " 20  Voyager                    143 non-null    int64 \n",
      " 21  VISA_13                    143 non-null    int64 \n",
      " 22  Maestro                    143 non-null    int64 \n",
      " 23  Mastercard                 143 non-null    int64 \n",
      " 24  DC_CB                      143 non-null    int64 \n",
      " 25  JCB_15                     143 non-null    int64 \n",
      " 26  OrdersFulfilled            143 non-null    int64 \n",
      " 27  OrdersPending              143 non-null    int64 \n",
      " 28  OrdersFailed               143 non-null    int64 \n",
      " 29  Trns_fail_order_fulfilled  143 non-null    int64 \n",
      " 30  Duplicate_IP               143 non-null    int64 \n",
      " 31  Duplicate_Address          143 non-null    int64 \n",
      "dtypes: int64(27), object(5)\n",
      "memory usage: 35.9+ KB\n"
     ]
    }
   ],
   "source": [
    "final.info()"
   ]
  },
  {
   "cell_type": "code",
   "execution_count": 48,
   "metadata": {},
   "outputs": [
    {
     "data": {
      "text/plain": [
       "customerEmail                0\n",
       "customerPhone                0\n",
       "customerDevice               0\n",
       "customerIPAddress            0\n",
       "customerBillingAddress       0\n",
       "No_Transactions              0\n",
       "No_Orders                    0\n",
       "No_Payments                  0\n",
       "Fraud                        0\n",
       "Total_transaction            0\n",
       "Fail_transaction             0\n",
       "PaymentRegFail               0\n",
       "PaypalPayments               0\n",
       "ApplePayments                0\n",
       "CardPayments                 0\n",
       "BitcoinPayments              0\n",
       "JCB_16                       0\n",
       "AmericanExp                  0\n",
       "VISA_16                      0\n",
       "Discover                     0\n",
       "Voyager                      0\n",
       "VISA_13                      0\n",
       "Maestro                      0\n",
       "Mastercard                   0\n",
       "DC_CB                        0\n",
       "JCB_15                       0\n",
       "OrdersFulfilled              0\n",
       "OrdersPending                0\n",
       "OrdersFailed                 0\n",
       "Trns_fail_order_fulfilled    0\n",
       "Duplicate_IP                 0\n",
       "Duplicate_Address            0\n",
       "dtype: int64"
      ]
     },
     "execution_count": 48,
     "metadata": {},
     "output_type": "execute_result"
    }
   ],
   "source": [
    "final.isna().sum()"
   ]
  },
  {
   "cell_type": "code",
   "execution_count": 49,
   "metadata": {},
   "outputs": [
    {
     "data": {
      "image/png": "[encoded data removed]",
      "text/plain": [
       "<Figure size 936x576 with 1 Axes>"
      ]
     },
     "metadata": {
      "needs_background": "light"
     },
     "output_type": "display_data"
    }
   ],
   "source": [
    "plt.figure(figsize=(13,8))\n",
    "sns.heatmap(final.corr('spearman'), annot=True, cbar=False)\n",
    "plt.show()"
   ]
  },
  {
   "cell_type": "code",
   "execution_count": 50,
   "metadata": {},
   "outputs": [
    {
     "data": {
      "text/html": [
       "<div>\n",
       "<style scoped>\n",
       "    .dataframe tbody tr th:only-of-type {\n",
       "        vertical-align: middle;\n",
       "    }\n",
       "\n",
       "    .dataframe tbody tr th {\n",
       "        vertical-align: top;\n",
       "    }\n",
       "\n",
       "    .dataframe thead th {\n",
       "        text-align: right;\n",
       "    }\n",
       "</style>\n",
       "<table border=\"1\" class=\"dataframe\">\n",
       "  <thead>\n",
       "    <tr style=\"text-align: right;\">\n",
       "      <th></th>\n",
       "      <th>customerEmail</th>\n",
       "      <th>customerPhone</th>\n",
       "      <th>customerDevice</th>\n",
       "      <th>customerIPAddress</th>\n",
       "      <th>customerBillingAddress</th>\n",
       "      <th>No_Transactions</th>\n",
       "      <th>No_Orders</th>\n",
       "      <th>No_Payments</th>\n",
       "      <th>Fraud</th>\n",
       "      <th>Total_transaction</th>\n",
       "      <th>Fail_transaction</th>\n",
       "      <th>PaymentRegFail</th>\n",
       "      <th>PaypalPayments</th>\n",
       "      <th>ApplePayments</th>\n",
       "      <th>CardPayments</th>\n",
       "      <th>BitcoinPayments</th>\n",
       "      <th>JCB_16</th>\n",
       "      <th>AmericanExp</th>\n",
       "      <th>VISA_16</th>\n",
       "      <th>Discover</th>\n",
       "      <th>Voyager</th>\n",
       "      <th>VISA_13</th>\n",
       "      <th>Maestro</th>\n",
       "      <th>Mastercard</th>\n",
       "      <th>DC_CB</th>\n",
       "      <th>JCB_15</th>\n",
       "      <th>OrdersFulfilled</th>\n",
       "      <th>OrdersPending</th>\n",
       "      <th>OrdersFailed</th>\n",
       "      <th>Trns_fail_order_fulfilled</th>\n",
       "      <th>Duplicate_IP</th>\n",
       "      <th>Duplicate_Address</th>\n",
       "    </tr>\n",
       "  </thead>\n",
       "  <tbody>\n",
       "    <tr>\n",
       "      <th>0</th>\n",
       "      <td>josephhoward@yahoo.com</td>\n",
       "      <td>400-108-5415</td>\n",
       "      <td>yyeiaxpltf82440jnb3v</td>\n",
       "      <td>8.129.104.40</td>\n",
       "      <td>5493 Jones Islands\\nBrownside, CA 51896</td>\n",
       "      <td>2</td>\n",
       "      <td>2</td>\n",
       "      <td>1</td>\n",
       "      <td>0</td>\n",
       "      <td>44</td>\n",
       "      <td>0</td>\n",
       "      <td>2</td>\n",
       "      <td>0</td>\n",
       "      <td>0</td>\n",
       "      <td>2</td>\n",
       "      <td>0</td>\n",
       "      <td>2</td>\n",
       "      <td>0</td>\n",
       "      <td>0</td>\n",
       "      <td>0</td>\n",
       "      <td>0</td>\n",
       "      <td>0</td>\n",
       "      <td>0</td>\n",
       "      <td>0</td>\n",
       "      <td>0</td>\n",
       "      <td>0</td>\n",
       "      <td>1</td>\n",
       "      <td>1</td>\n",
       "      <td>0</td>\n",
       "      <td>0</td>\n",
       "      <td>0</td>\n",
       "      <td>0</td>\n",
       "    </tr>\n",
       "    <tr>\n",
       "      <th>1</th>\n",
       "      <td>evansjeffery@yahoo.com</td>\n",
       "      <td>1-788-091-7546</td>\n",
       "      <td>r0jpm7xaeqqa3kr6mzum</td>\n",
       "      <td>219.173.211.202</td>\n",
       "      <td>356 Elizabeth Inlet Suite 120\\nPort Joshuabury...</td>\n",
       "      <td>3</td>\n",
       "      <td>3</td>\n",
       "      <td>7</td>\n",
       "      <td>1</td>\n",
       "      <td>111</td>\n",
       "      <td>1</td>\n",
       "      <td>1</td>\n",
       "      <td>0</td>\n",
       "      <td>0</td>\n",
       "      <td>0</td>\n",
       "      <td>3</td>\n",
       "      <td>0</td>\n",
       "      <td>2</td>\n",
       "      <td>1</td>\n",
       "      <td>0</td>\n",
       "      <td>0</td>\n",
       "      <td>0</td>\n",
       "      <td>0</td>\n",
       "      <td>0</td>\n",
       "      <td>0</td>\n",
       "      <td>0</td>\n",
       "      <td>3</td>\n",
       "      <td>0</td>\n",
       "      <td>0</td>\n",
       "      <td>1</td>\n",
       "      <td>0</td>\n",
       "      <td>0</td>\n",
       "    </tr>\n",
       "    <tr>\n",
       "      <th>2</th>\n",
       "      <td>andersonwilliam@yahoo.com</td>\n",
       "      <td>024.420.0375</td>\n",
       "      <td>4m7h5ipl1shyavt6vv2r</td>\n",
       "      <td>67b7:3db8:67e0:3bea:b9d0:90c1:2b60:b9f0</td>\n",
       "      <td>8478 Sean Ridges Apt. 441\\nDavisberg, PR 72250</td>\n",
       "      <td>5</td>\n",
       "      <td>3</td>\n",
       "      <td>2</td>\n",
       "      <td>0</td>\n",
       "      <td>131</td>\n",
       "      <td>2</td>\n",
       "      <td>0</td>\n",
       "      <td>0</td>\n",
       "      <td>0</td>\n",
       "      <td>5</td>\n",
       "      <td>0</td>\n",
       "      <td>4</td>\n",
       "      <td>0</td>\n",
       "      <td>0</td>\n",
       "      <td>1</td>\n",
       "      <td>0</td>\n",
       "      <td>0</td>\n",
       "      <td>0</td>\n",
       "      <td>0</td>\n",
       "      <td>0</td>\n",
       "      <td>0</td>\n",
       "      <td>4</td>\n",
       "      <td>0</td>\n",
       "      <td>1</td>\n",
       "      <td>2</td>\n",
       "      <td>0</td>\n",
       "      <td>0</td>\n",
       "    </tr>\n",
       "    <tr>\n",
       "      <th>3</th>\n",
       "      <td>rubenjuarez@yahoo.com</td>\n",
       "      <td>670.664.8168x94985</td>\n",
       "      <td>slovx60t0i558may4ks0</td>\n",
       "      <td>95de:8565:5a66:792c:26e0:6cfb:7d87:11af</td>\n",
       "      <td>7769 Elizabeth Bridge Apt. 343\\nNortonstad, FM...</td>\n",
       "      <td>3</td>\n",
       "      <td>3</td>\n",
       "      <td>1</td>\n",
       "      <td>0</td>\n",
       "      <td>85</td>\n",
       "      <td>0</td>\n",
       "      <td>0</td>\n",
       "      <td>0</td>\n",
       "      <td>0</td>\n",
       "      <td>3</td>\n",
       "      <td>0</td>\n",
       "      <td>0</td>\n",
       "      <td>0</td>\n",
       "      <td>0</td>\n",
       "      <td>0</td>\n",
       "      <td>3</td>\n",
       "      <td>0</td>\n",
       "      <td>0</td>\n",
       "      <td>0</td>\n",
       "      <td>0</td>\n",
       "      <td>0</td>\n",
       "      <td>3</td>\n",
       "      <td>0</td>\n",
       "      <td>0</td>\n",
       "      <td>0</td>\n",
       "      <td>0</td>\n",
       "      <td>0</td>\n",
       "    </tr>\n",
       "    <tr>\n",
       "      <th>4</th>\n",
       "      <td>uchen@malone.com</td>\n",
       "      <td>1-981-877-0870</td>\n",
       "      <td>j0pd24k5h8dl2fqu0cz4</td>\n",
       "      <td>196.89.235.192</td>\n",
       "      <td>148 Russell Lodge Apt. 445\\nPort Jenniferside,...</td>\n",
       "      <td>7</td>\n",
       "      <td>7</td>\n",
       "      <td>6</td>\n",
       "      <td>1</td>\n",
       "      <td>411</td>\n",
       "      <td>2</td>\n",
       "      <td>0</td>\n",
       "      <td>0</td>\n",
       "      <td>3</td>\n",
       "      <td>4</td>\n",
       "      <td>0</td>\n",
       "      <td>3</td>\n",
       "      <td>1</td>\n",
       "      <td>2</td>\n",
       "      <td>0</td>\n",
       "      <td>0</td>\n",
       "      <td>1</td>\n",
       "      <td>0</td>\n",
       "      <td>0</td>\n",
       "      <td>0</td>\n",
       "      <td>0</td>\n",
       "      <td>6</td>\n",
       "      <td>0</td>\n",
       "      <td>1</td>\n",
       "      <td>2</td>\n",
       "      <td>0</td>\n",
       "      <td>0</td>\n",
       "    </tr>\n",
       "  </tbody>\n",
       "</table>\n",
       "</div>"
      ],
      "text/plain": [
       "               customerEmail       customerPhone        customerDevice  \\\n",
       "0     josephhoward@yahoo.com        400-108-5415  yyeiaxpltf82440jnb3v   \n",
       "1     evansjeffery@yahoo.com      1-788-091-7546  r0jpm7xaeqqa3kr6mzum   \n",
       "2  andersonwilliam@yahoo.com        024.420.0375  4m7h5ipl1shyavt6vv2r   \n",
       "3      rubenjuarez@yahoo.com  670.664.8168x94985  slovx60t0i558may4ks0   \n",
       "4           uchen@malone.com      1-981-877-0870  j0pd24k5h8dl2fqu0cz4   \n",
       "\n",
       "                         customerIPAddress  \\\n",
       "0                             8.129.104.40   \n",
       "1                          219.173.211.202   \n",
       "2  67b7:3db8:67e0:3bea:b9d0:90c1:2b60:b9f0   \n",
       "3  95de:8565:5a66:792c:26e0:6cfb:7d87:11af   \n",
       "4                           196.89.235.192   \n",
       "\n",
       "                              customerBillingAddress  No_Transactions  \\\n",
       "0            5493 Jones Islands\\nBrownside, CA 51896                2   \n",
       "1  356 Elizabeth Inlet Suite 120\\nPort Joshuabury...                3   \n",
       "2     8478 Sean Ridges Apt. 441\\nDavisberg, PR 72250                5   \n",
       "3  7769 Elizabeth Bridge Apt. 343\\nNortonstad, FM...                3   \n",
       "4  148 Russell Lodge Apt. 445\\nPort Jenniferside,...                7   \n",
       "\n",
       "   No_Orders  No_Payments  Fraud  Total_transaction  Fail_transaction  \\\n",
       "0          2            1      0                 44                 0   \n",
       "1          3            7      1                111                 1   \n",
       "2          3            2      0                131                 2   \n",
       "3          3            1      0                 85                 0   \n",
       "4          7            6      1                411                 2   \n",
       "\n",
       "   PaymentRegFail  PaypalPayments  ApplePayments  CardPayments  \\\n",
       "0               2               0              0             2   \n",
       "1               1               0              0             0   \n",
       "2               0               0              0             5   \n",
       "3               0               0              0             3   \n",
       "4               0               0              3             4   \n",
       "\n",
       "   BitcoinPayments  JCB_16  AmericanExp  VISA_16  Discover  Voyager  VISA_13  \\\n",
       "0                0       2            0        0         0        0        0   \n",
       "1                3       0            2        1         0        0        0   \n",
       "2                0       4            0        0         1        0        0   \n",
       "3                0       0            0        0         0        3        0   \n",
       "4                0       3            1        2         0        0        1   \n",
       "\n",
       "   Maestro  Mastercard  DC_CB  JCB_15  OrdersFulfilled  OrdersPending  \\\n",
       "0        0           0      0       0                1              1   \n",
       "1        0           0      0       0                3              0   \n",
       "2        0           0      0       0                4              0   \n",
       "3        0           0      0       0                3              0   \n",
       "4        0           0      0       0                6              0   \n",
       "\n",
       "   OrdersFailed  Trns_fail_order_fulfilled  Duplicate_IP  Duplicate_Address  \n",
       "0             0                          0             0                  0  \n",
       "1             0                          1             0                  0  \n",
       "2             1                          2             0                  0  \n",
       "3             0                          0             0                  0  \n",
       "4             1                          2             0                  0  "
      ]
     },
     "execution_count": 50,
     "metadata": {},
     "output_type": "execute_result"
    }
   ],
   "source": [
    "final.head()"
   ]
  },
  {
   "cell_type": "code",
   "execution_count": 51,
   "metadata": {},
   "outputs": [
    {
     "data": {
      "text/plain": [
       "Index(['customerEmail', 'customerPhone', 'customerDevice', 'customerIPAddress',\n",
       "       'customerBillingAddress', 'No_Transactions', 'No_Orders', 'No_Payments',\n",
       "       'Fraud', 'Total_transaction', 'Fail_transaction', 'PaymentRegFail',\n",
       "       'PaypalPayments', 'ApplePayments', 'CardPayments', 'BitcoinPayments',\n",
       "       'JCB_16', 'AmericanExp', 'VISA_16', 'Discover', 'Voyager', 'VISA_13',\n",
       "       'Maestro', 'Mastercard', 'DC_CB', 'JCB_15', 'OrdersFulfilled',\n",
       "       'OrdersPending', 'OrdersFailed', 'Trns_fail_order_fulfilled',\n",
       "       'Duplicate_IP', 'Duplicate_Address'],\n",
       "      dtype='object')"
      ]
     },
     "execution_count": 51,
     "metadata": {},
     "output_type": "execute_result"
    }
   ],
   "source": [
    "final.columns"
   ]
  },
  {
   "cell_type": "markdown",
   "metadata": {},
   "source": [
    "# Feature Selection\n",
    "- No_Transactions : Jumlah Transaksi\n",
    "- No_Orders : Jumlah Orderan Barang\n",
    "- No_Payments : Jumlah payments yang dilakukan\n",
    "- Fraud : Customers termasuk dalam golongan Fraud atau Non-Fraud **(Target)**\n",
    "- Total_transaction : Total transaksi yang terjadi pada customer tersebut\n",
    "- Fail_transaction : Total transaksi yang gagal pada customer tersebut\n",
    "- PaymentRegFail : Total payment yang gagal diregistrasi\n",
    "- PaypalPayments : Pembayaran menggunakan Paypal\n",
    "- ApplePayments : Pembayaran menggunakan Apple\n",
    "- CardPayments : Pembayaran menggunakan Card\n",
    "- BitcoinPayments : Pembayaran menggunakan Bitcoin\n",
    "- JCB_16 : Metode Provider yang digunakan untuk pembayaran menggunakan JCB_16\n",
    "- AmericanExp : Metode Provider yang digunakan untuk pembayaran menggunakan AmericanExp\n",
    "- VISA_16 : Metode Provider yang digunakan untuk pembayaran menggunakan VISA_16\n",
    "- Discover : Metode Provider yang digunakan untuk pembayaran menggunakan Discover\n",
    "- Voyager : Metode Provider yang digunakan untuk pembayaran menggunakan Voyager\n",
    "- VISA_13 : Metode Provider yang digunakan untuk pembayaran menggunakan VISA_13\n",
    "- Maestro : Metode Provider yang digunakan untuk pembayaran menggunakan Maestro\n",
    "- Mastercard : Metode Provider yang digunakan untuk pembayaran menggunakan Mastercard\n",
    "- DC_CB : Metode Provider yang digunakan untuk pembayaran menggunakan DC_CB\n",
    "- JCB_15 : Metode Provider yang digunakan untuk pembayaran menggunakan JCB_15\n",
    "- OrdersFulfilled : Order yang sudah terpenuhi / selesai\n",
    "- OrdersPending : Order yang masih dalam status pending\n",
    "- OrdersFailed : Order ynag sudah gagal\n",
    "- Trns_fail_order_fulfilled : Order yang gagal tetapi statusnya sudah terpenuhi / selesai\n",
    "- Duplicate_IP : IP yang terduplikat pada Customers\n",
    "- Duplicate_Address : Address yang terduplikat pada Customers"
   ]
  },
  {
   "cell_type": "code",
   "execution_count": 52,
   "metadata": {},
   "outputs": [],
   "source": [
    "df = final[['No_Transactions', 'No_Orders', 'No_Payments',\n",
    "       'Fraud', 'Total_transaction', 'Fail_transaction', 'PaymentRegFail',\n",
    "       'PaypalPayments', 'ApplePayments', 'CardPayments', 'BitcoinPayments',\n",
    "       'JCB_16', 'AmericanExp', 'VISA_16', 'Discover', 'Voyager', 'VISA_13',\n",
    "       'Maestro', 'Mastercard', 'DC_CB', 'JCB_15', 'OrdersFulfilled',\n",
    "       'OrdersPending', 'OrdersFailed', 'Trns_fail_order_fulfilled',\n",
    "       'Duplicate_IP', 'Duplicate_Address']]"
   ]
  },
  {
   "cell_type": "code",
   "execution_count": 53,
   "metadata": {},
   "outputs": [
    {
     "data": {
      "text/html": [
       "<div>\n",
       "<style scoped>\n",
       "    .dataframe tbody tr th:only-of-type {\n",
       "        vertical-align: middle;\n",
       "    }\n",
       "\n",
       "    .dataframe tbody tr th {\n",
       "        vertical-align: top;\n",
       "    }\n",
       "\n",
       "    .dataframe thead th {\n",
       "        text-align: right;\n",
       "    }\n",
       "</style>\n",
       "<table border=\"1\" class=\"dataframe\">\n",
       "  <thead>\n",
       "    <tr style=\"text-align: right;\">\n",
       "      <th></th>\n",
       "      <th>No_Transactions</th>\n",
       "      <th>No_Orders</th>\n",
       "      <th>No_Payments</th>\n",
       "      <th>Fraud</th>\n",
       "      <th>Total_transaction</th>\n",
       "      <th>Fail_transaction</th>\n",
       "      <th>PaymentRegFail</th>\n",
       "      <th>PaypalPayments</th>\n",
       "      <th>ApplePayments</th>\n",
       "      <th>CardPayments</th>\n",
       "      <th>BitcoinPayments</th>\n",
       "      <th>JCB_16</th>\n",
       "      <th>AmericanExp</th>\n",
       "      <th>VISA_16</th>\n",
       "      <th>Discover</th>\n",
       "      <th>Voyager</th>\n",
       "      <th>VISA_13</th>\n",
       "      <th>Maestro</th>\n",
       "      <th>Mastercard</th>\n",
       "      <th>DC_CB</th>\n",
       "      <th>JCB_15</th>\n",
       "      <th>OrdersFulfilled</th>\n",
       "      <th>OrdersPending</th>\n",
       "      <th>OrdersFailed</th>\n",
       "      <th>Trns_fail_order_fulfilled</th>\n",
       "      <th>Duplicate_IP</th>\n",
       "      <th>Duplicate_Address</th>\n",
       "    </tr>\n",
       "  </thead>\n",
       "  <tbody>\n",
       "    <tr>\n",
       "      <th>0</th>\n",
       "      <td>2</td>\n",
       "      <td>2</td>\n",
       "      <td>1</td>\n",
       "      <td>0</td>\n",
       "      <td>44</td>\n",
       "      <td>0</td>\n",
       "      <td>2</td>\n",
       "      <td>0</td>\n",
       "      <td>0</td>\n",
       "      <td>2</td>\n",
       "      <td>0</td>\n",
       "      <td>2</td>\n",
       "      <td>0</td>\n",
       "      <td>0</td>\n",
       "      <td>0</td>\n",
       "      <td>0</td>\n",
       "      <td>0</td>\n",
       "      <td>0</td>\n",
       "      <td>0</td>\n",
       "      <td>0</td>\n",
       "      <td>0</td>\n",
       "      <td>1</td>\n",
       "      <td>1</td>\n",
       "      <td>0</td>\n",
       "      <td>0</td>\n",
       "      <td>0</td>\n",
       "      <td>0</td>\n",
       "    </tr>\n",
       "    <tr>\n",
       "      <th>1</th>\n",
       "      <td>3</td>\n",
       "      <td>3</td>\n",
       "      <td>7</td>\n",
       "      <td>1</td>\n",
       "      <td>111</td>\n",
       "      <td>1</td>\n",
       "      <td>1</td>\n",
       "      <td>0</td>\n",
       "      <td>0</td>\n",
       "      <td>0</td>\n",
       "      <td>3</td>\n",
       "      <td>0</td>\n",
       "      <td>2</td>\n",
       "      <td>1</td>\n",
       "      <td>0</td>\n",
       "      <td>0</td>\n",
       "      <td>0</td>\n",
       "      <td>0</td>\n",
       "      <td>0</td>\n",
       "      <td>0</td>\n",
       "      <td>0</td>\n",
       "      <td>3</td>\n",
       "      <td>0</td>\n",
       "      <td>0</td>\n",
       "      <td>1</td>\n",
       "      <td>0</td>\n",
       "      <td>0</td>\n",
       "    </tr>\n",
       "    <tr>\n",
       "      <th>2</th>\n",
       "      <td>5</td>\n",
       "      <td>3</td>\n",
       "      <td>2</td>\n",
       "      <td>0</td>\n",
       "      <td>131</td>\n",
       "      <td>2</td>\n",
       "      <td>0</td>\n",
       "      <td>0</td>\n",
       "      <td>0</td>\n",
       "      <td>5</td>\n",
       "      <td>0</td>\n",
       "      <td>4</td>\n",
       "      <td>0</td>\n",
       "      <td>0</td>\n",
       "      <td>1</td>\n",
       "      <td>0</td>\n",
       "      <td>0</td>\n",
       "      <td>0</td>\n",
       "      <td>0</td>\n",
       "      <td>0</td>\n",
       "      <td>0</td>\n",
       "      <td>4</td>\n",
       "      <td>0</td>\n",
       "      <td>1</td>\n",
       "      <td>2</td>\n",
       "      <td>0</td>\n",
       "      <td>0</td>\n",
       "    </tr>\n",
       "    <tr>\n",
       "      <th>3</th>\n",
       "      <td>3</td>\n",
       "      <td>3</td>\n",
       "      <td>1</td>\n",
       "      <td>0</td>\n",
       "      <td>85</td>\n",
       "      <td>0</td>\n",
       "      <td>0</td>\n",
       "      <td>0</td>\n",
       "      <td>0</td>\n",
       "      <td>3</td>\n",
       "      <td>0</td>\n",
       "      <td>0</td>\n",
       "      <td>0</td>\n",
       "      <td>0</td>\n",
       "      <td>0</td>\n",
       "      <td>3</td>\n",
       "      <td>0</td>\n",
       "      <td>0</td>\n",
       "      <td>0</td>\n",
       "      <td>0</td>\n",
       "      <td>0</td>\n",
       "      <td>3</td>\n",
       "      <td>0</td>\n",
       "      <td>0</td>\n",
       "      <td>0</td>\n",
       "      <td>0</td>\n",
       "      <td>0</td>\n",
       "    </tr>\n",
       "    <tr>\n",
       "      <th>4</th>\n",
       "      <td>7</td>\n",
       "      <td>7</td>\n",
       "      <td>6</td>\n",
       "      <td>1</td>\n",
       "      <td>411</td>\n",
       "      <td>2</td>\n",
       "      <td>0</td>\n",
       "      <td>0</td>\n",
       "      <td>3</td>\n",
       "      <td>4</td>\n",
       "      <td>0</td>\n",
       "      <td>3</td>\n",
       "      <td>1</td>\n",
       "      <td>2</td>\n",
       "      <td>0</td>\n",
       "      <td>0</td>\n",
       "      <td>1</td>\n",
       "      <td>0</td>\n",
       "      <td>0</td>\n",
       "      <td>0</td>\n",
       "      <td>0</td>\n",
       "      <td>6</td>\n",
       "      <td>0</td>\n",
       "      <td>1</td>\n",
       "      <td>2</td>\n",
       "      <td>0</td>\n",
       "      <td>0</td>\n",
       "    </tr>\n",
       "  </tbody>\n",
       "</table>\n",
       "</div>"
      ],
      "text/plain": [
       "   No_Transactions  No_Orders  No_Payments  Fraud  Total_transaction  \\\n",
       "0                2          2            1      0                 44   \n",
       "1                3          3            7      1                111   \n",
       "2                5          3            2      0                131   \n",
       "3                3          3            1      0                 85   \n",
       "4                7          7            6      1                411   \n",
       "\n",
       "   Fail_transaction  PaymentRegFail  PaypalPayments  ApplePayments  \\\n",
       "0                 0               2               0              0   \n",
       "1                 1               1               0              0   \n",
       "2                 2               0               0              0   \n",
       "3                 0               0               0              0   \n",
       "4                 2               0               0              3   \n",
       "\n",
       "   CardPayments  BitcoinPayments  JCB_16  AmericanExp  VISA_16  Discover  \\\n",
       "0             2                0       2            0        0         0   \n",
       "1             0                3       0            2        1         0   \n",
       "2             5                0       4            0        0         1   \n",
       "3             3                0       0            0        0         0   \n",
       "4             4                0       3            1        2         0   \n",
       "\n",
       "   Voyager  VISA_13  Maestro  Mastercard  DC_CB  JCB_15  OrdersFulfilled  \\\n",
       "0        0        0        0           0      0       0                1   \n",
       "1        0        0        0           0      0       0                3   \n",
       "2        0        0        0           0      0       0                4   \n",
       "3        3        0        0           0      0       0                3   \n",
       "4        0        1        0           0      0       0                6   \n",
       "\n",
       "   OrdersPending  OrdersFailed  Trns_fail_order_fulfilled  Duplicate_IP  \\\n",
       "0              1             0                          0             0   \n",
       "1              0             0                          1             0   \n",
       "2              0             1                          2             0   \n",
       "3              0             0                          0             0   \n",
       "4              0             1                          2             0   \n",
       "\n",
       "   Duplicate_Address  \n",
       "0                  0  \n",
       "1                  0  \n",
       "2                  0  \n",
       "3                  0  \n",
       "4                  0  "
      ]
     },
     "execution_count": 53,
     "metadata": {},
     "output_type": "execute_result"
    }
   ],
   "source": [
    "df.head()"
   ]
  },
  {
   "cell_type": "code",
   "execution_count": 54,
   "metadata": {},
   "outputs": [],
   "source": [
    "# Splitting Data"
   ]
  },
  {
   "cell_type": "code",
   "execution_count": 55,
   "metadata": {},
   "outputs": [],
   "source": [
    "X = df.drop(columns='Fraud')\n",
    "y = df['Fraud']"
   ]
  },
  {
   "cell_type": "code",
   "execution_count": 56,
   "metadata": {},
   "outputs": [],
   "source": [
    "X_train, X_test, y_train, y_test = train_test_split(X, y, stratify = y, test_size = 0.20, random_state = 42)"
   ]
  },
  {
   "cell_type": "code",
   "execution_count": 57,
   "metadata": {},
   "outputs": [],
   "source": [
    "# Function Evaluation Matrix"
   ]
  },
  {
   "cell_type": "code",
   "execution_count": 58,
   "metadata": {},
   "outputs": [],
   "source": [
    "# Evaluation Matrix Function\n",
    "def Eva_Matrix1(Model, X_train, y_train, X_test, y_test, Name):\n",
    "    y_pred_train = Model.predict(X_train)\n",
    "    acc_train = accuracy_score(y_train, y_pred_train)\n",
    "    rec_train = recall_score(y_train, y_pred_train)\n",
    "    prec_train = precision_score(y_train, y_pred_train)\n",
    "    f1_train = f1_score(y_train, y_pred_train)\n",
    "    y_pred_test = Model.predict(X_test)\n",
    "    acc_test = accuracy_score(y_test, y_pred_test)\n",
    "    rec_test = recall_score(y_test, y_pred_test)\n",
    "    prec_test = precision_score(y_test, y_pred_test)\n",
    "    f1_test = f1_score(y_train, y_pred_train)\n",
    "    data = {\n",
    "        f\"Training {Name}\" : [acc_train, rec_train, prec_train, f1_train],\n",
    "        f\"Test {Name}\" : [acc_test, rec_test, prec_test, f1_test]\n",
    "    }\n",
    "    df = pd.DataFrame(data=data, index=['Accuracy', 'Recall', 'Precision', 'F1'])\n",
    "    return df"
   ]
  },
  {
   "cell_type": "markdown",
   "metadata": {},
   "source": [
    "# Pipeline"
   ]
  },
  {
   "cell_type": "code",
   "execution_count": 59,
   "metadata": {},
   "outputs": [],
   "source": [
    "num_columns = ['No_Transactions', 'No_Orders', 'No_Payments',\n",
    "       'Total_transaction', 'Fail_transaction', 'PaymentRegFail',\n",
    "       'PaypalPayments', 'ApplePayments', 'CardPayments', 'BitcoinPayments',\n",
    "       'JCB_16', 'AmericanExp', 'VISA_16', 'Discover', 'Voyager', 'VISA_13',\n",
    "       'Maestro', 'Mastercard', 'DC_CB', 'JCB_15', 'OrdersFulfilled',\n",
    "       'OrdersPending', 'OrdersFailed', 'Trns_fail_order_fulfilled',\n",
    "       'Duplicate_IP', 'Duplicate_Address']\n",
    "\n",
    "numeric_pipeline = Pipeline([\n",
    "    ('imputer', SimpleImputer(strategy='mean')),\n",
    "    ('scaler', RobustScaler()),\n",
    "    #('poly', PolynomialFeatures(degree=3, include_bias=False)),\n",
    "    #('power', PowerTransformer(method='yeo-johnson'))\n",
    "])\n",
    "\n",
    "preprocessor = ColumnTransformer([\n",
    "    ('numeric', numeric_pipeline, num_columns)\n",
    "])\n",
    "\n",
    "pipeSVM = Pipeline([\n",
    "    (\"prep\", preprocessor),\n",
    "    (\"algo\", SVC(max_iter=400, probability=True))\n",
    "])\n",
    "\n",
    "pipeLR = Pipeline([\n",
    "    (\"prep\", preprocessor),\n",
    "    (\"algo\", LogisticRegression())\n",
    "])\n",
    "\n",
    "pipeKNN = Pipeline([\n",
    "    (\"prep\", preprocessor),\n",
    "    (\"algo\", KNeighborsClassifier())\n",
    "])\n",
    "               \n",
    "pipeDT = Pipeline([\n",
    "    (\"prep\", preprocessor),\n",
    "    (\"algo\", DecisionTreeClassifier())\n",
    "])\n",
    "            \n",
    "pipeRF = Pipeline([\n",
    "    (\"prep\", preprocessor),\n",
    "    (\"algo\", RandomForestClassifier())\n",
    "])"
   ]
  },
  {
   "cell_type": "markdown",
   "metadata": {},
   "source": [
    "# KNeigborsClassifier"
   ]
  },
  {
   "cell_type": "code",
   "execution_count": 60,
   "metadata": {},
   "outputs": [
    {
     "data": {
      "text/plain": [
       "Pipeline(steps=[('prep',\n",
       "                 ColumnTransformer(transformers=[('numeric',\n",
       "                                                  Pipeline(steps=[('imputer',\n",
       "                                                                   SimpleImputer()),\n",
       "                                                                  ('scaler',\n",
       "                                                                   RobustScaler())]),\n",
       "                                                  ['No_Transactions',\n",
       "                                                   'No_Orders', 'No_Payments',\n",
       "                                                   'Total_transaction',\n",
       "                                                   'Fail_transaction',\n",
       "                                                   'PaymentRegFail',\n",
       "                                                   'PaypalPayments',\n",
       "                                                   'ApplePayments',\n",
       "                                                   'CardPayments',\n",
       "                                                   'BitcoinPayments', 'JCB_16',\n",
       "                                                   'AmericanExp', 'VISA_16',\n",
       "                                                   'Discover', 'Voyager',\n",
       "                                                   'VISA_13', 'Maestro',\n",
       "                                                   'Mastercard', 'DC_CB',\n",
       "                                                   'JCB_15', 'OrdersFulfilled',\n",
       "                                                   'OrdersPending',\n",
       "                                                   'OrdersFailed',\n",
       "                                                   'Trns_fail_order_fulfilled',\n",
       "                                                   'Duplicate_IP',\n",
       "                                                   'Duplicate_Address'])])),\n",
       "                ('algo', KNeighborsClassifier())])"
      ]
     },
     "execution_count": 60,
     "metadata": {},
     "output_type": "execute_result"
    }
   ],
   "source": [
    "pipeKNN.fit(X_train, y_train)"
   ]
  },
  {
   "cell_type": "code",
   "execution_count": 61,
   "metadata": {},
   "outputs": [],
   "source": [
    "y_KNN_test = pipeKNN.predict(X_test)"
   ]
  },
  {
   "cell_type": "code",
   "execution_count": 62,
   "metadata": {},
   "outputs": [
    {
     "data": {
      "text/html": [
       "<div>\n",
       "<style scoped>\n",
       "    .dataframe tbody tr th:only-of-type {\n",
       "        vertical-align: middle;\n",
       "    }\n",
       "\n",
       "    .dataframe tbody tr th {\n",
       "        vertical-align: top;\n",
       "    }\n",
       "\n",
       "    .dataframe thead th {\n",
       "        text-align: right;\n",
       "    }\n",
       "</style>\n",
       "<table border=\"1\" class=\"dataframe\">\n",
       "  <thead>\n",
       "    <tr style=\"text-align: right;\">\n",
       "      <th></th>\n",
       "      <th>Training Pipeline KNN</th>\n",
       "      <th>Test Pipeline KNN</th>\n",
       "    </tr>\n",
       "  </thead>\n",
       "  <tbody>\n",
       "    <tr>\n",
       "      <th>Accuracy</th>\n",
       "      <td>0.789474</td>\n",
       "      <td>0.689655</td>\n",
       "    </tr>\n",
       "    <tr>\n",
       "      <th>Recall</th>\n",
       "      <td>0.577778</td>\n",
       "      <td>0.272727</td>\n",
       "    </tr>\n",
       "    <tr>\n",
       "      <th>Precision</th>\n",
       "      <td>0.838710</td>\n",
       "      <td>0.750000</td>\n",
       "    </tr>\n",
       "    <tr>\n",
       "      <th>F1</th>\n",
       "      <td>0.684211</td>\n",
       "      <td>0.684211</td>\n",
       "    </tr>\n",
       "  </tbody>\n",
       "</table>\n",
       "</div>"
      ],
      "text/plain": [
       "           Training Pipeline KNN  Test Pipeline KNN\n",
       "Accuracy                0.789474           0.689655\n",
       "Recall                  0.577778           0.272727\n",
       "Precision               0.838710           0.750000\n",
       "F1                      0.684211           0.684211"
      ]
     },
     "execution_count": 62,
     "metadata": {},
     "output_type": "execute_result"
    }
   ],
   "source": [
    "df_KNN = Eva_Matrix1(pipeKNN, X_train, y_train, X_test, y_test, \"Pipeline KNN\")\n",
    "df_KNN"
   ]
  },
  {
   "cell_type": "code",
   "execution_count": 63,
   "metadata": {},
   "outputs": [
    {
     "name": "stdout",
     "output_type": "stream",
     "text": [
      "              precision    recall  f1-score   support\n",
      "\n",
      "           0       0.68      0.94      0.79        18\n",
      "           1       0.75      0.27      0.40        11\n",
      "\n",
      "    accuracy                           0.69        29\n",
      "   macro avg       0.72      0.61      0.60        29\n",
      "weighted avg       0.71      0.69      0.64        29\n",
      "\n"
     ]
    },
    {
     "data": {
      "image/png": "[encoded data removed]",
      "text/plain": [
       "<Figure size 432x288 with 2 Axes>"
      ]
     },
     "metadata": {
      "needs_background": "light"
     },
     "output_type": "display_data"
    }
   ],
   "source": [
    "print(classification_report(y_test, y_KNN_test))\n",
    "cm_KNN_test = confusion_matrix(y_test, y_KNN_test, labels = [1,0])\n",
    "df_KNN_test = pd.DataFrame(data=cm_KNN_test, columns=['Pred 1', 'Pred 0'], index=['Akt 1', 'Akt 0'])\n",
    "sns.heatmap(df_KNN_test, annot=True)\n",
    "plt.show()"
   ]
  },
  {
   "cell_type": "markdown",
   "metadata": {},
   "source": [
    "# LogisticRegression"
   ]
  },
  {
   "cell_type": "code",
   "execution_count": 64,
   "metadata": {},
   "outputs": [
    {
     "data": {
      "text/plain": [
       "Pipeline(steps=[('prep',\n",
       "                 ColumnTransformer(transformers=[('numeric',\n",
       "                                                  Pipeline(steps=[('imputer',\n",
       "                                                                   SimpleImputer()),\n",
       "                                                                  ('scaler',\n",
       "                                                                   RobustScaler())]),\n",
       "                                                  ['No_Transactions',\n",
       "                                                   'No_Orders', 'No_Payments',\n",
       "                                                   'Total_transaction',\n",
       "                                                   'Fail_transaction',\n",
       "                                                   'PaymentRegFail',\n",
       "                                                   'PaypalPayments',\n",
       "                                                   'ApplePayments',\n",
       "                                                   'CardPayments',\n",
       "                                                   'BitcoinPayments', 'JCB_16',\n",
       "                                                   'AmericanExp', 'VISA_16',\n",
       "                                                   'Discover', 'Voyager',\n",
       "                                                   'VISA_13', 'Maestro',\n",
       "                                                   'Mastercard', 'DC_CB',\n",
       "                                                   'JCB_15', 'OrdersFulfilled',\n",
       "                                                   'OrdersPending',\n",
       "                                                   'OrdersFailed',\n",
       "                                                   'Trns_fail_order_fulfilled',\n",
       "                                                   'Duplicate_IP',\n",
       "                                                   'Duplicate_Address'])])),\n",
       "                ('algo', LogisticRegression())])"
      ]
     },
     "execution_count": 64,
     "metadata": {},
     "output_type": "execute_result"
    }
   ],
   "source": [
    "pipeLR.fit(X_train, y_train)"
   ]
  },
  {
   "cell_type": "code",
   "execution_count": 65,
   "metadata": {},
   "outputs": [],
   "source": [
    "y_LR_test = pipeLR.predict(X_test)"
   ]
  },
  {
   "cell_type": "code",
   "execution_count": 66,
   "metadata": {},
   "outputs": [
    {
     "data": {
      "text/html": [
       "<div>\n",
       "<style scoped>\n",
       "    .dataframe tbody tr th:only-of-type {\n",
       "        vertical-align: middle;\n",
       "    }\n",
       "\n",
       "    .dataframe tbody tr th {\n",
       "        vertical-align: top;\n",
       "    }\n",
       "\n",
       "    .dataframe thead th {\n",
       "        text-align: right;\n",
       "    }\n",
       "</style>\n",
       "<table border=\"1\" class=\"dataframe\">\n",
       "  <thead>\n",
       "    <tr style=\"text-align: right;\">\n",
       "      <th></th>\n",
       "      <th>Training Pipeline LR</th>\n",
       "      <th>Test Pipeline LR</th>\n",
       "    </tr>\n",
       "  </thead>\n",
       "  <tbody>\n",
       "    <tr>\n",
       "      <th>Accuracy</th>\n",
       "      <td>0.815789</td>\n",
       "      <td>0.758621</td>\n",
       "    </tr>\n",
       "    <tr>\n",
       "      <th>Recall</th>\n",
       "      <td>0.688889</td>\n",
       "      <td>0.363636</td>\n",
       "    </tr>\n",
       "    <tr>\n",
       "      <th>Precision</th>\n",
       "      <td>0.815789</td>\n",
       "      <td>1.000000</td>\n",
       "    </tr>\n",
       "    <tr>\n",
       "      <th>F1</th>\n",
       "      <td>0.746988</td>\n",
       "      <td>0.746988</td>\n",
       "    </tr>\n",
       "  </tbody>\n",
       "</table>\n",
       "</div>"
      ],
      "text/plain": [
       "           Training Pipeline LR  Test Pipeline LR\n",
       "Accuracy               0.815789          0.758621\n",
       "Recall                 0.688889          0.363636\n",
       "Precision              0.815789          1.000000\n",
       "F1                     0.746988          0.746988"
      ]
     },
     "execution_count": 66,
     "metadata": {},
     "output_type": "execute_result"
    }
   ],
   "source": [
    "df_LR = Eva_Matrix1(pipeLR, X_train, y_train, X_test, y_test, \"Pipeline LR\")\n",
    "df_LR"
   ]
  },
  {
   "cell_type": "code",
   "execution_count": 67,
   "metadata": {},
   "outputs": [
    {
     "name": "stdout",
     "output_type": "stream",
     "text": [
      "              precision    recall  f1-score   support\n",
      "\n",
      "           0       0.72      1.00      0.84        18\n",
      "           1       1.00      0.36      0.53        11\n",
      "\n",
      "    accuracy                           0.76        29\n",
      "   macro avg       0.86      0.68      0.69        29\n",
      "weighted avg       0.83      0.76      0.72        29\n",
      "\n"
     ]
    },
    {
     "data": {
      "image/png": "[encoded data removed]",
      "text/plain": [
       "<Figure size 432x288 with 2 Axes>"
      ]
     },
     "metadata": {
      "needs_background": "light"
     },
     "output_type": "display_data"
    }
   ],
   "source": [
    "print(classification_report(y_test, y_LR_test))\n",
    "cm_LR_test = confusion_matrix(y_test, y_LR_test, labels = [1,0])\n",
    "df_LR_test = pd.DataFrame(data=cm_LR_test, columns=['Pred 1', 'Pred 0'], index=['Akt 1', 'Akt 0'])\n",
    "sns.heatmap(df_LR_test, annot=True)\n",
    "plt.show()"
   ]
  },
  {
   "cell_type": "markdown",
   "metadata": {},
   "source": [
    "# SVM"
   ]
  },
  {
   "cell_type": "code",
   "execution_count": 68,
   "metadata": {},
   "outputs": [
    {
     "data": {
      "text/plain": [
       "Pipeline(steps=[('prep',\n",
       "                 ColumnTransformer(transformers=[('numeric',\n",
       "                                                  Pipeline(steps=[('imputer',\n",
       "                                                                   SimpleImputer()),\n",
       "                                                                  ('scaler',\n",
       "                                                                   RobustScaler())]),\n",
       "                                                  ['No_Transactions',\n",
       "                                                   'No_Orders', 'No_Payments',\n",
       "                                                   'Total_transaction',\n",
       "                                                   'Fail_transaction',\n",
       "                                                   'PaymentRegFail',\n",
       "                                                   'PaypalPayments',\n",
       "                                                   'ApplePayments',\n",
       "                                                   'CardPayments',\n",
       "                                                   'BitcoinPayments', 'JCB_16',\n",
       "                                                   'AmericanExp', 'VISA_16',\n",
       "                                                   'Discover', 'Voyager',\n",
       "                                                   'VISA_13', 'Maestro',\n",
       "                                                   'Mastercard', 'DC_CB',\n",
       "                                                   'JCB_15', 'OrdersFulfilled',\n",
       "                                                   'OrdersPending',\n",
       "                                                   'OrdersFailed',\n",
       "                                                   'Trns_fail_order_fulfilled',\n",
       "                                                   'Duplicate_IP',\n",
       "                                                   'Duplicate_Address'])])),\n",
       "                ('algo', SVC(max_iter=400, probability=True))])"
      ]
     },
     "execution_count": 68,
     "metadata": {},
     "output_type": "execute_result"
    }
   ],
   "source": [
    "pipeSVM.fit(X_train, y_train)"
   ]
  },
  {
   "cell_type": "code",
   "execution_count": 69,
   "metadata": {},
   "outputs": [],
   "source": [
    "y_SVM_test = pipeSVM.predict(X_test)"
   ]
  },
  {
   "cell_type": "code",
   "execution_count": 70,
   "metadata": {},
   "outputs": [
    {
     "data": {
      "text/html": [
       "<div>\n",
       "<style scoped>\n",
       "    .dataframe tbody tr th:only-of-type {\n",
       "        vertical-align: middle;\n",
       "    }\n",
       "\n",
       "    .dataframe tbody tr th {\n",
       "        vertical-align: top;\n",
       "    }\n",
       "\n",
       "    .dataframe thead th {\n",
       "        text-align: right;\n",
       "    }\n",
       "</style>\n",
       "<table border=\"1\" class=\"dataframe\">\n",
       "  <thead>\n",
       "    <tr style=\"text-align: right;\">\n",
       "      <th></th>\n",
       "      <th>Training Pipeline SVM</th>\n",
       "      <th>Test Pipeline SVM</th>\n",
       "    </tr>\n",
       "  </thead>\n",
       "  <tbody>\n",
       "    <tr>\n",
       "      <th>Accuracy</th>\n",
       "      <td>0.833333</td>\n",
       "      <td>0.689655</td>\n",
       "    </tr>\n",
       "    <tr>\n",
       "      <th>Recall</th>\n",
       "      <td>0.577778</td>\n",
       "      <td>0.272727</td>\n",
       "    </tr>\n",
       "    <tr>\n",
       "      <th>Precision</th>\n",
       "      <td>1.000000</td>\n",
       "      <td>0.750000</td>\n",
       "    </tr>\n",
       "    <tr>\n",
       "      <th>F1</th>\n",
       "      <td>0.732394</td>\n",
       "      <td>0.732394</td>\n",
       "    </tr>\n",
       "  </tbody>\n",
       "</table>\n",
       "</div>"
      ],
      "text/plain": [
       "           Training Pipeline SVM  Test Pipeline SVM\n",
       "Accuracy                0.833333           0.689655\n",
       "Recall                  0.577778           0.272727\n",
       "Precision               1.000000           0.750000\n",
       "F1                      0.732394           0.732394"
      ]
     },
     "execution_count": 70,
     "metadata": {},
     "output_type": "execute_result"
    }
   ],
   "source": [
    "df_SVM = Eva_Matrix1(pipeSVM, X_train, y_train, X_test, y_test, \"Pipeline SVM\")\n",
    "df_SVM"
   ]
  },
  {
   "cell_type": "code",
   "execution_count": 71,
   "metadata": {},
   "outputs": [
    {
     "name": "stdout",
     "output_type": "stream",
     "text": [
      "              precision    recall  f1-score   support\n",
      "\n",
      "           0       0.68      0.94      0.79        18\n",
      "           1       0.75      0.27      0.40        11\n",
      "\n",
      "    accuracy                           0.69        29\n",
      "   macro avg       0.72      0.61      0.60        29\n",
      "weighted avg       0.71      0.69      0.64        29\n",
      "\n"
     ]
    },
    {
     "data": {
      "image/png": "[encoded data removed]",
      "text/plain": [
       "<Figure size 432x288 with 2 Axes>"
      ]
     },
     "metadata": {
      "needs_background": "light"
     },
     "output_type": "display_data"
    }
   ],
   "source": [
    "print(classification_report(y_test, y_SVM_test))\n",
    "cm_SVM_test = confusion_matrix(y_test, y_SVM_test, labels = [1,0])\n",
    "df_SVM_test = pd.DataFrame(data=cm_SVM_test, columns=['Pred 1', 'Pred 0'], index=['Akt 1', 'Akt 0'])\n",
    "sns.heatmap(df_SVM_test, annot=True)\n",
    "plt.show()"
   ]
  },
  {
   "cell_type": "markdown",
   "metadata": {},
   "source": [
    "# DecisionTreeClassifier"
   ]
  },
  {
   "cell_type": "code",
   "execution_count": 72,
   "metadata": {},
   "outputs": [
    {
     "data": {
      "text/plain": [
       "Pipeline(steps=[('prep',\n",
       "                 ColumnTransformer(transformers=[('numeric',\n",
       "                                                  Pipeline(steps=[('imputer',\n",
       "                                                                   SimpleImputer()),\n",
       "                                                                  ('scaler',\n",
       "                                                                   RobustScaler())]),\n",
       "                                                  ['No_Transactions',\n",
       "                                                   'No_Orders', 'No_Payments',\n",
       "                                                   'Total_transaction',\n",
       "                                                   'Fail_transaction',\n",
       "                                                   'PaymentRegFail',\n",
       "                                                   'PaypalPayments',\n",
       "                                                   'ApplePayments',\n",
       "                                                   'CardPayments',\n",
       "                                                   'BitcoinPayments', 'JCB_16',\n",
       "                                                   'AmericanExp', 'VISA_16',\n",
       "                                                   'Discover', 'Voyager',\n",
       "                                                   'VISA_13', 'Maestro',\n",
       "                                                   'Mastercard', 'DC_CB',\n",
       "                                                   'JCB_15', 'OrdersFulfilled',\n",
       "                                                   'OrdersPending',\n",
       "                                                   'OrdersFailed',\n",
       "                                                   'Trns_fail_order_fulfilled',\n",
       "                                                   'Duplicate_IP',\n",
       "                                                   'Duplicate_Address'])])),\n",
       "                ('algo', DecisionTreeClassifier())])"
      ]
     },
     "execution_count": 72,
     "metadata": {},
     "output_type": "execute_result"
    }
   ],
   "source": [
    "pipeDT.fit(X_train, y_train)"
   ]
  },
  {
   "cell_type": "code",
   "execution_count": 73,
   "metadata": {},
   "outputs": [],
   "source": [
    "y_DT_test = pipeDT.predict(X_test)"
   ]
  },
  {
   "cell_type": "code",
   "execution_count": 74,
   "metadata": {},
   "outputs": [
    {
     "data": {
      "text/html": [
       "<div>\n",
       "<style scoped>\n",
       "    .dataframe tbody tr th:only-of-type {\n",
       "        vertical-align: middle;\n",
       "    }\n",
       "\n",
       "    .dataframe tbody tr th {\n",
       "        vertical-align: top;\n",
       "    }\n",
       "\n",
       "    .dataframe thead th {\n",
       "        text-align: right;\n",
       "    }\n",
       "</style>\n",
       "<table border=\"1\" class=\"dataframe\">\n",
       "  <thead>\n",
       "    <tr style=\"text-align: right;\">\n",
       "      <th></th>\n",
       "      <th>Training Pipeline DT</th>\n",
       "      <th>Test Pipeline DT</th>\n",
       "    </tr>\n",
       "  </thead>\n",
       "  <tbody>\n",
       "    <tr>\n",
       "      <th>Accuracy</th>\n",
       "      <td>1.0</td>\n",
       "      <td>0.551724</td>\n",
       "    </tr>\n",
       "    <tr>\n",
       "      <th>Recall</th>\n",
       "      <td>1.0</td>\n",
       "      <td>0.454545</td>\n",
       "    </tr>\n",
       "    <tr>\n",
       "      <th>Precision</th>\n",
       "      <td>1.0</td>\n",
       "      <td>0.416667</td>\n",
       "    </tr>\n",
       "    <tr>\n",
       "      <th>F1</th>\n",
       "      <td>1.0</td>\n",
       "      <td>1.000000</td>\n",
       "    </tr>\n",
       "  </tbody>\n",
       "</table>\n",
       "</div>"
      ],
      "text/plain": [
       "           Training Pipeline DT  Test Pipeline DT\n",
       "Accuracy                    1.0          0.551724\n",
       "Recall                      1.0          0.454545\n",
       "Precision                   1.0          0.416667\n",
       "F1                          1.0          1.000000"
      ]
     },
     "execution_count": 74,
     "metadata": {},
     "output_type": "execute_result"
    }
   ],
   "source": [
    "df_DT = Eva_Matrix1(pipeDT, X_train, y_train, X_test, y_test, \"Pipeline DT\")\n",
    "df_DT"
   ]
  },
  {
   "cell_type": "code",
   "execution_count": 75,
   "metadata": {},
   "outputs": [
    {
     "name": "stdout",
     "output_type": "stream",
     "text": [
      "              precision    recall  f1-score   support\n",
      "\n",
      "           0       0.65      0.61      0.63        18\n",
      "           1       0.42      0.45      0.43        11\n",
      "\n",
      "    accuracy                           0.55        29\n",
      "   macro avg       0.53      0.53      0.53        29\n",
      "weighted avg       0.56      0.55      0.56        29\n",
      "\n"
     ]
    },
    {
     "data": {
      "image/png": "[encoded data removed]",
      "text/plain": [
       "<Figure size 432x288 with 2 Axes>"
      ]
     },
     "metadata": {
      "needs_background": "light"
     },
     "output_type": "display_data"
    }
   ],
   "source": [
    "print(classification_report(y_test, y_DT_test))\n",
    "cm_DT_test = confusion_matrix(y_test, y_DT_test, labels = [1,0])\n",
    "df_DT_test = pd.DataFrame(data=cm_DT_test, columns=['Pred 1', 'Pred 0'], index=['Akt 1', 'Akt 0'])\n",
    "sns.heatmap(df_DT_test, annot=True)\n",
    "plt.show()"
   ]
  },
  {
   "cell_type": "markdown",
   "metadata": {},
   "source": [
    "# RandomForestClassifier"
   ]
  },
  {
   "cell_type": "code",
   "execution_count": 76,
   "metadata": {},
   "outputs": [
    {
     "data": {
      "text/plain": [
       "Pipeline(steps=[('prep',\n",
       "                 ColumnTransformer(transformers=[('numeric',\n",
       "                                                  Pipeline(steps=[('imputer',\n",
       "                                                                   SimpleImputer()),\n",
       "                                                                  ('scaler',\n",
       "                                                                   RobustScaler())]),\n",
       "                                                  ['No_Transactions',\n",
       "                                                   'No_Orders', 'No_Payments',\n",
       "                                                   'Total_transaction',\n",
       "                                                   'Fail_transaction',\n",
       "                                                   'PaymentRegFail',\n",
       "                                                   'PaypalPayments',\n",
       "                                                   'ApplePayments',\n",
       "                                                   'CardPayments',\n",
       "                                                   'BitcoinPayments', 'JCB_16',\n",
       "                                                   'AmericanExp', 'VISA_16',\n",
       "                                                   'Discover', 'Voyager',\n",
       "                                                   'VISA_13', 'Maestro',\n",
       "                                                   'Mastercard', 'DC_CB',\n",
       "                                                   'JCB_15', 'OrdersFulfilled',\n",
       "                                                   'OrdersPending',\n",
       "                                                   'OrdersFailed',\n",
       "                                                   'Trns_fail_order_fulfilled',\n",
       "                                                   'Duplicate_IP',\n",
       "                                                   'Duplicate_Address'])])),\n",
       "                ('algo', RandomForestClassifier())])"
      ]
     },
     "execution_count": 76,
     "metadata": {},
     "output_type": "execute_result"
    }
   ],
   "source": [
    "pipeRF.fit(X_train, y_train)"
   ]
  },
  {
   "cell_type": "code",
   "execution_count": 77,
   "metadata": {},
   "outputs": [],
   "source": [
    "y_RF_test = pipeRF.predict(X_test)"
   ]
  },
  {
   "cell_type": "code",
   "execution_count": 78,
   "metadata": {},
   "outputs": [
    {
     "data": {
      "text/html": [
       "<div>\n",
       "<style scoped>\n",
       "    .dataframe tbody tr th:only-of-type {\n",
       "        vertical-align: middle;\n",
       "    }\n",
       "\n",
       "    .dataframe tbody tr th {\n",
       "        vertical-align: top;\n",
       "    }\n",
       "\n",
       "    .dataframe thead th {\n",
       "        text-align: right;\n",
       "    }\n",
       "</style>\n",
       "<table border=\"1\" class=\"dataframe\">\n",
       "  <thead>\n",
       "    <tr style=\"text-align: right;\">\n",
       "      <th></th>\n",
       "      <th>Training Pipeline RF</th>\n",
       "      <th>Test Pipeline RF</th>\n",
       "    </tr>\n",
       "  </thead>\n",
       "  <tbody>\n",
       "    <tr>\n",
       "      <th>Accuracy</th>\n",
       "      <td>1.0</td>\n",
       "      <td>0.724138</td>\n",
       "    </tr>\n",
       "    <tr>\n",
       "      <th>Recall</th>\n",
       "      <td>1.0</td>\n",
       "      <td>0.454545</td>\n",
       "    </tr>\n",
       "    <tr>\n",
       "      <th>Precision</th>\n",
       "      <td>1.0</td>\n",
       "      <td>0.714286</td>\n",
       "    </tr>\n",
       "    <tr>\n",
       "      <th>F1</th>\n",
       "      <td>1.0</td>\n",
       "      <td>1.000000</td>\n",
       "    </tr>\n",
       "  </tbody>\n",
       "</table>\n",
       "</div>"
      ],
      "text/plain": [
       "           Training Pipeline RF  Test Pipeline RF\n",
       "Accuracy                    1.0          0.724138\n",
       "Recall                      1.0          0.454545\n",
       "Precision                   1.0          0.714286\n",
       "F1                          1.0          1.000000"
      ]
     },
     "execution_count": 78,
     "metadata": {},
     "output_type": "execute_result"
    }
   ],
   "source": [
    "df_RF = Eva_Matrix1(pipeRF, X_train, y_train, X_test, y_test, \"Pipeline RF\")\n",
    "df_RF"
   ]
  },
  {
   "cell_type": "code",
   "execution_count": 79,
   "metadata": {},
   "outputs": [
    {
     "name": "stdout",
     "output_type": "stream",
     "text": [
      "              precision    recall  f1-score   support\n",
      "\n",
      "           0       0.73      0.89      0.80        18\n",
      "           1       0.71      0.45      0.56        11\n",
      "\n",
      "    accuracy                           0.72        29\n",
      "   macro avg       0.72      0.67      0.68        29\n",
      "weighted avg       0.72      0.72      0.71        29\n",
      "\n"
     ]
    },
    {
     "data": {
      "image/png": "[encoded data removed]",
      "text/plain": [
       "<Figure size 432x288 with 2 Axes>"
      ]
     },
     "metadata": {
      "needs_background": "light"
     },
     "output_type": "display_data"
    }
   ],
   "source": [
    "print(classification_report(y_test, y_RF_test))\n",
    "cm_RF_test = confusion_matrix(y_test, y_RF_test, labels = [1,0])\n",
    "df_RF_test = pd.DataFrame(data=cm_RF_test, columns=['Pred 1', 'Pred 0'], index=['Akt 1', 'Akt 0'])\n",
    "sns.heatmap(df_RF_test, annot=True)\n",
    "plt.show()"
   ]
  },
  {
   "cell_type": "markdown",
   "metadata": {},
   "source": [
    "### ======================================================================="
   ]
  },
  {
   "cell_type": "markdown",
   "metadata": {},
   "source": [
    "# Improvement Algoritma (Hyper Parameter Tuning)"
   ]
  },
  {
   "cell_type": "markdown",
   "metadata": {},
   "source": [
    "## KNN (Hyper Parameter Tuning)"
   ]
  },
  {
   "cell_type": "code",
   "execution_count": 80,
   "metadata": {},
   "outputs": [],
   "source": [
    "param_KNN = {\n",
    "    \"algo__n_neighbors\" : np.arange(1, 51, 2),\n",
    "    \"algo__p\" : [1, 2],\n",
    "    \"algo__weights\" : ['uniform', 'distance']\n",
    "}"
   ]
  },
  {
   "cell_type": "code",
   "execution_count": 81,
   "metadata": {},
   "outputs": [],
   "source": [
    "skf = StratifiedKFold(n_splits = 3, random_state = 42)"
   ]
  },
  {
   "cell_type": "code",
   "execution_count": 82,
   "metadata": {},
   "outputs": [],
   "source": [
    "KNN_GS = GridSearchCV(pipeKNN, param_KNN, cv = skf, scoring = 'balanced_accuracy', n_jobs = -1, verbose = 1)"
   ]
  },
  {
   "cell_type": "code",
   "execution_count": 83,
   "metadata": {},
   "outputs": [
    {
     "name": "stdout",
     "output_type": "stream",
     "text": [
      "Fitting 3 folds for each of 100 candidates, totalling 300 fits\n"
     ]
    },
    {
     "name": "stderr",
     "output_type": "stream",
     "text": [
      "[Parallel(n_jobs=-1)]: Using backend LokyBackend with 4 concurrent workers.\n",
      "[Parallel(n_jobs=-1)]: Done  48 tasks      | elapsed:    5.7s\n",
      "[Parallel(n_jobs=-1)]: Done 300 out of 300 | elapsed:   10.1s finished\n"
     ]
    },
    {
     "data": {
      "text/plain": [
       "GridSearchCV(cv=StratifiedKFold(n_splits=3, random_state=42, shuffle=False),\n",
       "             estimator=Pipeline(steps=[('prep',\n",
       "                                        ColumnTransformer(transformers=[('numeric',\n",
       "                                                                         Pipeline(steps=[('imputer',\n",
       "                                                                                          SimpleImputer()),\n",
       "                                                                                         ('scaler',\n",
       "                                                                                          RobustScaler())]),\n",
       "                                                                         ['No_Transactions',\n",
       "                                                                          'No_Orders',\n",
       "                                                                          'No_Payments',\n",
       "                                                                          'Total_transaction',\n",
       "                                                                          'Fail_transaction',\n",
       "                                                                          'PaymentRegFail',\n",
       "                                                                          'PaypalPayments',\n",
       "                                                                          'ApplePay...\n",
       "                                                                          'OrdersFulfilled',\n",
       "                                                                          'OrdersPending',\n",
       "                                                                          'OrdersFailed',\n",
       "                                                                          'Trns_fail_order_fulfilled',\n",
       "                                                                          'Duplicate_IP',\n",
       "                                                                          'Duplicate_Address'])])),\n",
       "                                       ('algo', KNeighborsClassifier())]),\n",
       "             n_jobs=-1,\n",
       "             param_grid={'algo__n_neighbors': array([ 1,  3,  5,  7,  9, 11, 13, 15, 17, 19, 21, 23, 25, 27, 29, 31, 33,\n",
       "       35, 37, 39, 41, 43, 45, 47, 49]),\n",
       "                         'algo__p': [1, 2],\n",
       "                         'algo__weights': ['uniform', 'distance']},\n",
       "             scoring='balanced_accuracy', verbose=1)"
      ]
     },
     "execution_count": 83,
     "metadata": {},
     "output_type": "execute_result"
    }
   ],
   "source": [
    "KNN_GS.fit(X_train, y_train)"
   ]
  },
  {
   "cell_type": "code",
   "execution_count": 84,
   "metadata": {},
   "outputs": [],
   "source": [
    "KNN_Tuned = KNN_GS.best_estimator_"
   ]
  },
  {
   "cell_type": "code",
   "execution_count": 85,
   "metadata": {},
   "outputs": [],
   "source": [
    "y_train_KNN_Tuned = KNN_Tuned.predict(X_train)\n",
    "y_test_KNN_Tuned = KNN_Tuned.predict(X_test)"
   ]
  },
  {
   "cell_type": "code",
   "execution_count": 86,
   "metadata": {},
   "outputs": [
    {
     "data": {
      "text/html": [
       "<div>\n",
       "<style scoped>\n",
       "    .dataframe tbody tr th:only-of-type {\n",
       "        vertical-align: middle;\n",
       "    }\n",
       "\n",
       "    .dataframe tbody tr th {\n",
       "        vertical-align: top;\n",
       "    }\n",
       "\n",
       "    .dataframe thead th {\n",
       "        text-align: right;\n",
       "    }\n",
       "</style>\n",
       "<table border=\"1\" class=\"dataframe\">\n",
       "  <thead>\n",
       "    <tr style=\"text-align: right;\">\n",
       "      <th></th>\n",
       "      <th>Training Pipeline KNN Tuned</th>\n",
       "      <th>Test Pipeline KNN Tuned</th>\n",
       "    </tr>\n",
       "  </thead>\n",
       "  <tbody>\n",
       "    <tr>\n",
       "      <th>Accuracy</th>\n",
       "      <td>0.728070</td>\n",
       "      <td>0.689655</td>\n",
       "    </tr>\n",
       "    <tr>\n",
       "      <th>Recall</th>\n",
       "      <td>0.333333</td>\n",
       "      <td>0.363636</td>\n",
       "    </tr>\n",
       "    <tr>\n",
       "      <th>Precision</th>\n",
       "      <td>0.937500</td>\n",
       "      <td>0.666667</td>\n",
       "    </tr>\n",
       "    <tr>\n",
       "      <th>F1</th>\n",
       "      <td>0.491803</td>\n",
       "      <td>0.491803</td>\n",
       "    </tr>\n",
       "  </tbody>\n",
       "</table>\n",
       "</div>"
      ],
      "text/plain": [
       "           Training Pipeline KNN Tuned  Test Pipeline KNN Tuned\n",
       "Accuracy                      0.728070                 0.689655\n",
       "Recall                        0.333333                 0.363636\n",
       "Precision                     0.937500                 0.666667\n",
       "F1                            0.491803                 0.491803"
      ]
     },
     "execution_count": 86,
     "metadata": {},
     "output_type": "execute_result"
    }
   ],
   "source": [
    "df_KNN_Tuned = Eva_Matrix1(KNN_Tuned, X_train, y_train, X_test, y_test, \"Pipeline KNN Tuned\")\n",
    "df_KNN_Tuned"
   ]
  },
  {
   "cell_type": "code",
   "execution_count": 87,
   "metadata": {},
   "outputs": [
    {
     "name": "stdout",
     "output_type": "stream",
     "text": [
      "              precision    recall  f1-score   support\n",
      "\n",
      "           0       0.70      0.89      0.78        18\n",
      "           1       0.67      0.36      0.47        11\n",
      "\n",
      "    accuracy                           0.69        29\n",
      "   macro avg       0.68      0.63      0.63        29\n",
      "weighted avg       0.68      0.69      0.66        29\n",
      "\n"
     ]
    },
    {
     "data": {
      "image/png": "[encoded data removed]",
      "text/plain": [
       "<Figure size 432x288 with 2 Axes>"
      ]
     },
     "metadata": {
      "needs_background": "light"
     },
     "output_type": "display_data"
    }
   ],
   "source": [
    "print(classification_report(y_test, y_test_KNN_Tuned))\n",
    "cm_KNN_tuned_test = confusion_matrix(y_test, y_test_KNN_Tuned, labels = [1,0])\n",
    "df_KNN_tuned_test = pd.DataFrame(data=cm_KNN_tuned_test, columns=['Pred 1', 'Pred 0'], index=['Akt 1', 'Akt 0'])\n",
    "sns.heatmap(df_KNN_tuned_test, annot=True)\n",
    "plt.show()"
   ]
  },
  {
   "cell_type": "markdown",
   "metadata": {},
   "source": [
    "## LogisticRegression (Hyper Parameter Tuning)"
   ]
  },
  {
   "cell_type": "code",
   "execution_count": 88,
   "metadata": {},
   "outputs": [],
   "source": [
    "param_LR = {\n",
    "    \"algo__C\" : np.logspace(-3, 3, 7),\n",
    "    \"algo__penalty\" : ['l1', 'l2', 'elasticnet']\n",
    "}"
   ]
  },
  {
   "cell_type": "code",
   "execution_count": 89,
   "metadata": {},
   "outputs": [],
   "source": [
    "skf = StratifiedKFold(n_splits = 3, random_state = 42)"
   ]
  },
  {
   "cell_type": "code",
   "execution_count": 90,
   "metadata": {},
   "outputs": [],
   "source": [
    "LR_GS = GridSearchCV(pipeLR, param_LR, cv = skf, scoring = 'balanced_accuracy', n_jobs = -1, verbose = 1)"
   ]
  },
  {
   "cell_type": "code",
   "execution_count": 91,
   "metadata": {},
   "outputs": [
    {
     "name": "stdout",
     "output_type": "stream",
     "text": [
      "Fitting 3 folds for each of 21 candidates, totalling 63 fits\n"
     ]
    },
    {
     "name": "stderr",
     "output_type": "stream",
     "text": [
      "[Parallel(n_jobs=-1)]: Using backend LokyBackend with 4 concurrent workers.\n",
      "[Parallel(n_jobs=-1)]: Done  56 out of  63 | elapsed:    0.8s remaining:    0.0s\n",
      "[Parallel(n_jobs=-1)]: Done  63 out of  63 | elapsed:    0.9s finished\n"
     ]
    },
    {
     "data": {
      "text/plain": [
       "GridSearchCV(cv=StratifiedKFold(n_splits=3, random_state=42, shuffle=False),\n",
       "             estimator=Pipeline(steps=[('prep',\n",
       "                                        ColumnTransformer(transformers=[('numeric',\n",
       "                                                                         Pipeline(steps=[('imputer',\n",
       "                                                                                          SimpleImputer()),\n",
       "                                                                                         ('scaler',\n",
       "                                                                                          RobustScaler())]),\n",
       "                                                                         ['No_Transactions',\n",
       "                                                                          'No_Orders',\n",
       "                                                                          'No_Payments',\n",
       "                                                                          'Total_transaction',\n",
       "                                                                          'Fail_transaction',\n",
       "                                                                          'PaymentRegFail',\n",
       "                                                                          'PaypalPayments',\n",
       "                                                                          'ApplePay...\n",
       "                                                                          'Maestro',\n",
       "                                                                          'Mastercard',\n",
       "                                                                          'DC_CB',\n",
       "                                                                          'JCB_15',\n",
       "                                                                          'OrdersFulfilled',\n",
       "                                                                          'OrdersPending',\n",
       "                                                                          'OrdersFailed',\n",
       "                                                                          'Trns_fail_order_fulfilled',\n",
       "                                                                          'Duplicate_IP',\n",
       "                                                                          'Duplicate_Address'])])),\n",
       "                                       ('algo', LogisticRegression())]),\n",
       "             n_jobs=-1,\n",
       "             param_grid={'algo__C': array([1.e-03, 1.e-02, 1.e-01, 1.e+00, 1.e+01, 1.e+02, 1.e+03]),\n",
       "                         'algo__penalty': ['l1', 'l2', 'elasticnet']},\n",
       "             scoring='balanced_accuracy', verbose=1)"
      ]
     },
     "execution_count": 91,
     "metadata": {},
     "output_type": "execute_result"
    }
   ],
   "source": [
    "LR_GS.fit(X_train, y_train)"
   ]
  },
  {
   "cell_type": "code",
   "execution_count": 92,
   "metadata": {},
   "outputs": [],
   "source": [
    "LR_Tuned = LR_GS.best_estimator_"
   ]
  },
  {
   "cell_type": "code",
   "execution_count": 93,
   "metadata": {},
   "outputs": [],
   "source": [
    "y_train_LR_Tuned = LR_Tuned.predict(X_train)\n",
    "y_test_LR_Tuned = LR_Tuned.predict(X_test)"
   ]
  },
  {
   "cell_type": "code",
   "execution_count": 94,
   "metadata": {},
   "outputs": [
    {
     "data": {
      "text/html": [
       "<div>\n",
       "<style scoped>\n",
       "    .dataframe tbody tr th:only-of-type {\n",
       "        vertical-align: middle;\n",
       "    }\n",
       "\n",
       "    .dataframe tbody tr th {\n",
       "        vertical-align: top;\n",
       "    }\n",
       "\n",
       "    .dataframe thead th {\n",
       "        text-align: right;\n",
       "    }\n",
       "</style>\n",
       "<table border=\"1\" class=\"dataframe\">\n",
       "  <thead>\n",
       "    <tr style=\"text-align: right;\">\n",
       "      <th></th>\n",
       "      <th>Training Pipeline LR Tuned</th>\n",
       "      <th>Test Pipeline LR Tuned</th>\n",
       "    </tr>\n",
       "  </thead>\n",
       "  <tbody>\n",
       "    <tr>\n",
       "      <th>Accuracy</th>\n",
       "      <td>0.842105</td>\n",
       "      <td>0.758621</td>\n",
       "    </tr>\n",
       "    <tr>\n",
       "      <th>Recall</th>\n",
       "      <td>0.755556</td>\n",
       "      <td>0.454545</td>\n",
       "    </tr>\n",
       "    <tr>\n",
       "      <th>Precision</th>\n",
       "      <td>0.829268</td>\n",
       "      <td>0.833333</td>\n",
       "    </tr>\n",
       "    <tr>\n",
       "      <th>F1</th>\n",
       "      <td>0.790698</td>\n",
       "      <td>0.790698</td>\n",
       "    </tr>\n",
       "  </tbody>\n",
       "</table>\n",
       "</div>"
      ],
      "text/plain": [
       "           Training Pipeline LR Tuned  Test Pipeline LR Tuned\n",
       "Accuracy                     0.842105                0.758621\n",
       "Recall                       0.755556                0.454545\n",
       "Precision                    0.829268                0.833333\n",
       "F1                           0.790698                0.790698"
      ]
     },
     "execution_count": 94,
     "metadata": {},
     "output_type": "execute_result"
    }
   ],
   "source": [
    "df_LR_Tuned = Eva_Matrix1(LR_Tuned, X_train, y_train, X_test, y_test, \"Pipeline LR Tuned\")\n",
    "df_LR_Tuned"
   ]
  },
  {
   "cell_type": "code",
   "execution_count": 95,
   "metadata": {},
   "outputs": [
    {
     "name": "stdout",
     "output_type": "stream",
     "text": [
      "              precision    recall  f1-score   support\n",
      "\n",
      "           0       0.74      0.94      0.83        18\n",
      "           1       0.83      0.45      0.59        11\n",
      "\n",
      "    accuracy                           0.76        29\n",
      "   macro avg       0.79      0.70      0.71        29\n",
      "weighted avg       0.77      0.76      0.74        29\n",
      "\n"
     ]
    },
    {
     "data": {
      "image/png": "[encoded data removed]",
      "text/plain": [
       "<Figure size 432x288 with 2 Axes>"
      ]
     },
     "metadata": {
      "needs_background": "light"
     },
     "output_type": "display_data"
    }
   ],
   "source": [
    "print(classification_report(y_test, y_test_LR_Tuned))\n",
    "cm_LR_tuned_test = confusion_matrix(y_test, y_test_LR_Tuned, labels = [1,0])\n",
    "df_LR_tuned_test = pd.DataFrame(data=cm_LR_tuned_test, columns=['Pred 1', 'Pred 0'], index=['Akt 1', 'Akt 0'])\n",
    "sns.heatmap(df_LR_tuned_test, annot=True)\n",
    "plt.show()"
   ]
  },
  {
   "cell_type": "markdown",
   "metadata": {},
   "source": [
    "## SVM (Hyper Parameter Tuning)"
   ]
  },
  {
   "cell_type": "code",
   "execution_count": 96,
   "metadata": {},
   "outputs": [],
   "source": [
    "param_SVM = {\n",
    "    'algo__C' : np.logspace(-3,3,7),\n",
    "    'algo__gamma' : np.arange(10, 101, 10),\n",
    "    'algo__class_weight' : [{0 : 0.4, 1 : 0.6}, 'balanced', {0 : 0.3, 1 : 0.7}]\n",
    "}"
   ]
  },
  {
   "cell_type": "code",
   "execution_count": 97,
   "metadata": {},
   "outputs": [],
   "source": [
    "skf = StratifiedKFold(n_splits = 3, random_state = 42)"
   ]
  },
  {
   "cell_type": "code",
   "execution_count": 98,
   "metadata": {},
   "outputs": [],
   "source": [
    "SVM_GS = GridSearchCV(pipeSVM, param_SVM, cv = skf, scoring = 'balanced_accuracy', n_jobs = -1, verbose = 1)"
   ]
  },
  {
   "cell_type": "code",
   "execution_count": 99,
   "metadata": {},
   "outputs": [
    {
     "name": "stdout",
     "output_type": "stream",
     "text": [
      "Fitting 3 folds for each of 210 candidates, totalling 630 fits\n"
     ]
    },
    {
     "name": "stderr",
     "output_type": "stream",
     "text": [
      "[Parallel(n_jobs=-1)]: Using backend LokyBackend with 4 concurrent workers.\n",
      "[Parallel(n_jobs=-1)]: Done 128 tasks      | elapsed:    4.3s\n",
      "[Parallel(n_jobs=-1)]: Done 630 out of 630 | elapsed:   14.0s finished\n"
     ]
    },
    {
     "data": {
      "text/plain": [
       "GridSearchCV(cv=StratifiedKFold(n_splits=3, random_state=42, shuffle=False),\n",
       "             estimator=Pipeline(steps=[('prep',\n",
       "                                        ColumnTransformer(transformers=[('numeric',\n",
       "                                                                         Pipeline(steps=[('imputer',\n",
       "                                                                                          SimpleImputer()),\n",
       "                                                                                         ('scaler',\n",
       "                                                                                          RobustScaler())]),\n",
       "                                                                         ['No_Transactions',\n",
       "                                                                          'No_Orders',\n",
       "                                                                          'No_Payments',\n",
       "                                                                          'Total_transaction',\n",
       "                                                                          'Fail_transaction',\n",
       "                                                                          'PaymentRegFail',\n",
       "                                                                          'PaypalPayments',\n",
       "                                                                          'ApplePay...\n",
       "                                                                          'Trns_fail_order_fulfilled',\n",
       "                                                                          'Duplicate_IP',\n",
       "                                                                          'Duplicate_Address'])])),\n",
       "                                       ('algo',\n",
       "                                        SVC(max_iter=400, probability=True))]),\n",
       "             n_jobs=-1,\n",
       "             param_grid={'algo__C': array([1.e-03, 1.e-02, 1.e-01, 1.e+00, 1.e+01, 1.e+02, 1.e+03]),\n",
       "                         'algo__class_weight': [{0: 0.4, 1: 0.6}, 'balanced',\n",
       "                                                {0: 0.3, 1: 0.7}],\n",
       "                         'algo__gamma': array([ 10,  20,  30,  40,  50,  60,  70,  80,  90, 100])},\n",
       "             scoring='balanced_accuracy', verbose=1)"
      ]
     },
     "execution_count": 99,
     "metadata": {},
     "output_type": "execute_result"
    }
   ],
   "source": [
    "SVM_GS.fit(X_train, y_train)"
   ]
  },
  {
   "cell_type": "code",
   "execution_count": 100,
   "metadata": {},
   "outputs": [],
   "source": [
    "SVM_Tuned = SVM_GS.best_estimator_"
   ]
  },
  {
   "cell_type": "code",
   "execution_count": 101,
   "metadata": {},
   "outputs": [],
   "source": [
    "y_train_SVM_Tuned = SVM_Tuned.predict(X_train)\n",
    "y_test_SVM_Tuned = SVM_Tuned.predict(X_test)"
   ]
  },
  {
   "cell_type": "code",
   "execution_count": 102,
   "metadata": {},
   "outputs": [
    {
     "data": {
      "text/html": [
       "<div>\n",
       "<style scoped>\n",
       "    .dataframe tbody tr th:only-of-type {\n",
       "        vertical-align: middle;\n",
       "    }\n",
       "\n",
       "    .dataframe tbody tr th {\n",
       "        vertical-align: top;\n",
       "    }\n",
       "\n",
       "    .dataframe thead th {\n",
       "        text-align: right;\n",
       "    }\n",
       "</style>\n",
       "<table border=\"1\" class=\"dataframe\">\n",
       "  <thead>\n",
       "    <tr style=\"text-align: right;\">\n",
       "      <th></th>\n",
       "      <th>Training Pipeline SVM Tuned</th>\n",
       "      <th>Test Pipeline SVM Tuned</th>\n",
       "    </tr>\n",
       "  </thead>\n",
       "  <tbody>\n",
       "    <tr>\n",
       "      <th>Accuracy</th>\n",
       "      <td>0.605263</td>\n",
       "      <td>0.62069</td>\n",
       "    </tr>\n",
       "    <tr>\n",
       "      <th>Recall</th>\n",
       "      <td>0.000000</td>\n",
       "      <td>0.00000</td>\n",
       "    </tr>\n",
       "    <tr>\n",
       "      <th>Precision</th>\n",
       "      <td>0.000000</td>\n",
       "      <td>0.00000</td>\n",
       "    </tr>\n",
       "    <tr>\n",
       "      <th>F1</th>\n",
       "      <td>0.000000</td>\n",
       "      <td>0.00000</td>\n",
       "    </tr>\n",
       "  </tbody>\n",
       "</table>\n",
       "</div>"
      ],
      "text/plain": [
       "           Training Pipeline SVM Tuned  Test Pipeline SVM Tuned\n",
       "Accuracy                      0.605263                  0.62069\n",
       "Recall                        0.000000                  0.00000\n",
       "Precision                     0.000000                  0.00000\n",
       "F1                            0.000000                  0.00000"
      ]
     },
     "execution_count": 102,
     "metadata": {},
     "output_type": "execute_result"
    }
   ],
   "source": [
    "df_SVM_Tuned = Eva_Matrix1(SVM_Tuned, X_train, y_train, X_test, y_test, \"Pipeline SVM Tuned\")\n",
    "df_SVM_Tuned"
   ]
  },
  {
   "cell_type": "code",
   "execution_count": 103,
   "metadata": {},
   "outputs": [
    {
     "name": "stdout",
     "output_type": "stream",
     "text": [
      "              precision    recall  f1-score   support\n",
      "\n",
      "           0       0.62      1.00      0.77        18\n",
      "           1       0.00      0.00      0.00        11\n",
      "\n",
      "    accuracy                           0.62        29\n",
      "   macro avg       0.31      0.50      0.38        29\n",
      "weighted avg       0.39      0.62      0.48        29\n",
      "\n"
     ]
    },
    {
     "data": {
      "image/png": "[encoded data removed]",
      "text/plain": [
       "<Figure size 432x288 with 2 Axes>"
      ]
     },
     "metadata": {
      "needs_background": "light"
     },
     "output_type": "display_data"
    }
   ],
   "source": [
    "print(classification_report(y_test, y_test_SVM_Tuned))\n",
    "cm_SVM_tuned_test = confusion_matrix(y_test, y_test_SVM_Tuned, labels = [1,0])\n",
    "df_SVM_tuned_test = pd.DataFrame(data=cm_SVM_tuned_test, columns=['Pred 1', 'Pred 0'], index=['Akt 1', 'Akt 0'])\n",
    "sns.heatmap(df_SVM_tuned_test, annot=True)\n",
    "plt.show()"
   ]
  },
  {
   "cell_type": "markdown",
   "metadata": {},
   "source": [
    "## DecisionTreeClassifier (Hyper Parameter Tuning)"
   ]
  },
  {
   "cell_type": "code",
   "execution_count": 104,
   "metadata": {},
   "outputs": [],
   "source": [
    "param_DT = {\n",
    "    \"algo__max_depth\" : [None, 5, 10, 15],\n",
    "    \"algo__min_samples_leaf\" : np.arange(1, 20, 5),\n",
    "    \"algo__max_features\" : np.arange(0, 1.1, 0.3)\n",
    "}"
   ]
  },
  {
   "cell_type": "code",
   "execution_count": 105,
   "metadata": {},
   "outputs": [],
   "source": [
    "skf = StratifiedKFold(n_splits = 3, random_state = 42)"
   ]
  },
  {
   "cell_type": "code",
   "execution_count": 106,
   "metadata": {},
   "outputs": [],
   "source": [
    "DT_GS = GridSearchCV(pipeDT, param_DT, cv = skf, scoring = 'balanced_accuracy', n_jobs = -1, verbose = 1)"
   ]
  },
  {
   "cell_type": "code",
   "execution_count": 107,
   "metadata": {},
   "outputs": [
    {
     "name": "stdout",
     "output_type": "stream",
     "text": [
      "Fitting 3 folds for each of 64 candidates, totalling 192 fits\n"
     ]
    },
    {
     "name": "stderr",
     "output_type": "stream",
     "text": [
      "[Parallel(n_jobs=-1)]: Using backend LokyBackend with 4 concurrent workers.\n",
      "[Parallel(n_jobs=-1)]: Done 128 tasks      | elapsed:    1.7s\n",
      "[Parallel(n_jobs=-1)]: Done 192 out of 192 | elapsed:    2.3s finished\n"
     ]
    },
    {
     "data": {
      "text/plain": [
       "GridSearchCV(cv=StratifiedKFold(n_splits=3, random_state=42, shuffle=False),\n",
       "             estimator=Pipeline(steps=[('prep',\n",
       "                                        ColumnTransformer(transformers=[('numeric',\n",
       "                                                                         Pipeline(steps=[('imputer',\n",
       "                                                                                          SimpleImputer()),\n",
       "                                                                                         ('scaler',\n",
       "                                                                                          RobustScaler())]),\n",
       "                                                                         ['No_Transactions',\n",
       "                                                                          'No_Orders',\n",
       "                                                                          'No_Payments',\n",
       "                                                                          'Total_transaction',\n",
       "                                                                          'Fail_transaction',\n",
       "                                                                          'PaymentRegFail',\n",
       "                                                                          'PaypalPayments',\n",
       "                                                                          'ApplePay...\n",
       "                                                                          'DC_CB',\n",
       "                                                                          'JCB_15',\n",
       "                                                                          'OrdersFulfilled',\n",
       "                                                                          'OrdersPending',\n",
       "                                                                          'OrdersFailed',\n",
       "                                                                          'Trns_fail_order_fulfilled',\n",
       "                                                                          'Duplicate_IP',\n",
       "                                                                          'Duplicate_Address'])])),\n",
       "                                       ('algo', DecisionTreeClassifier())]),\n",
       "             n_jobs=-1,\n",
       "             param_grid={'algo__max_depth': [None, 5, 10, 15],\n",
       "                         'algo__max_features': array([0. , 0.3, 0.6, 0.9]),\n",
       "                         'algo__min_samples_leaf': array([ 1,  6, 11, 16])},\n",
       "             scoring='balanced_accuracy', verbose=1)"
      ]
     },
     "execution_count": 107,
     "metadata": {},
     "output_type": "execute_result"
    }
   ],
   "source": [
    "DT_GS.fit(X_train, y_train)"
   ]
  },
  {
   "cell_type": "code",
   "execution_count": 108,
   "metadata": {},
   "outputs": [
    {
     "data": {
      "text/plain": [
       "{'algo__max_depth': 5, 'algo__max_features': 0.6, 'algo__min_samples_leaf': 1}"
      ]
     },
     "execution_count": 108,
     "metadata": {},
     "output_type": "execute_result"
    }
   ],
   "source": [
    "DT_GS.best_params_"
   ]
  },
  {
   "cell_type": "code",
   "execution_count": 109,
   "metadata": {},
   "outputs": [],
   "source": [
    "DT_Tuned = DT_GS.best_estimator_"
   ]
  },
  {
   "cell_type": "code",
   "execution_count": 110,
   "metadata": {},
   "outputs": [],
   "source": [
    "y_train_DT_Tuned = DT_Tuned.predict(X_train)\n",
    "y_test_DT_Tuned = DT_Tuned.predict(X_test)"
   ]
  },
  {
   "cell_type": "code",
   "execution_count": 111,
   "metadata": {},
   "outputs": [
    {
     "data": {
      "text/html": [
       "<div>\n",
       "<style scoped>\n",
       "    .dataframe tbody tr th:only-of-type {\n",
       "        vertical-align: middle;\n",
       "    }\n",
       "\n",
       "    .dataframe tbody tr th {\n",
       "        vertical-align: top;\n",
       "    }\n",
       "\n",
       "    .dataframe thead th {\n",
       "        text-align: right;\n",
       "    }\n",
       "</style>\n",
       "<table border=\"1\" class=\"dataframe\">\n",
       "  <thead>\n",
       "    <tr style=\"text-align: right;\">\n",
       "      <th></th>\n",
       "      <th>Training Pipeline DT Tuned</th>\n",
       "      <th>Test Pipeline DT Tuned</th>\n",
       "    </tr>\n",
       "  </thead>\n",
       "  <tbody>\n",
       "    <tr>\n",
       "      <th>Accuracy</th>\n",
       "      <td>0.894737</td>\n",
       "      <td>0.758621</td>\n",
       "    </tr>\n",
       "    <tr>\n",
       "      <th>Recall</th>\n",
       "      <td>0.733333</td>\n",
       "      <td>0.454545</td>\n",
       "    </tr>\n",
       "    <tr>\n",
       "      <th>Precision</th>\n",
       "      <td>1.000000</td>\n",
       "      <td>0.833333</td>\n",
       "    </tr>\n",
       "    <tr>\n",
       "      <th>F1</th>\n",
       "      <td>0.846154</td>\n",
       "      <td>0.846154</td>\n",
       "    </tr>\n",
       "  </tbody>\n",
       "</table>\n",
       "</div>"
      ],
      "text/plain": [
       "           Training Pipeline DT Tuned  Test Pipeline DT Tuned\n",
       "Accuracy                     0.894737                0.758621\n",
       "Recall                       0.733333                0.454545\n",
       "Precision                    1.000000                0.833333\n",
       "F1                           0.846154                0.846154"
      ]
     },
     "execution_count": 111,
     "metadata": {},
     "output_type": "execute_result"
    }
   ],
   "source": [
    "df_DT_Tuned = Eva_Matrix1(DT_Tuned, X_train, y_train, X_test, y_test, \"Pipeline DT Tuned\")\n",
    "df_DT_Tuned"
   ]
  },
  {
   "cell_type": "code",
   "execution_count": 112,
   "metadata": {},
   "outputs": [
    {
     "name": "stdout",
     "output_type": "stream",
     "text": [
      "              precision    recall  f1-score   support\n",
      "\n",
      "           0       0.74      0.94      0.83        18\n",
      "           1       0.83      0.45      0.59        11\n",
      "\n",
      "    accuracy                           0.76        29\n",
      "   macro avg       0.79      0.70      0.71        29\n",
      "weighted avg       0.77      0.76      0.74        29\n",
      "\n"
     ]
    },
    {
     "data": {
      "image/png": "[encoded data removed]",
      "text/plain": [
       "<Figure size 432x288 with 2 Axes>"
      ]
     },
     "metadata": {
      "needs_background": "light"
     },
     "output_type": "display_data"
    }
   ],
   "source": [
    "print(classification_report(y_test, y_test_DT_Tuned))\n",
    "cm_DT_tuned_test = confusion_matrix(y_test, y_test_DT_Tuned, labels = [1,0])\n",
    "df_DT_tuned_test = pd.DataFrame(data=cm_DT_tuned_test, columns=['Pred 1', 'Pred 0'], index=['Akt 1', 'Akt 0'])\n",
    "sns.heatmap(df_DT_tuned_test, annot=True)\n",
    "plt.show()"
   ]
  },
  {
   "cell_type": "markdown",
   "metadata": {},
   "source": [
    "## RandomForestClassifier (Hyper Parameter Tuning)"
   ]
  },
  {
   "cell_type": "code",
   "execution_count": 113,
   "metadata": {},
   "outputs": [],
   "source": [
    "param_RF = {\n",
    "    \"algo__n_estimators\" : np.arange(100, 301, 100), # ada 3\n",
    "    \"algo__max_depth\" : [None, 5, 10], # ada 4\n",
    "    \"algo__min_samples_leaf\" : np.arange(1, 12, 5), # ada 4\n",
    "    \"algo__max_features\" : [0.3, 0.5, 0.7, 0.8] # ada 4\n",
    "}"
   ]
  },
  {
   "cell_type": "code",
   "execution_count": 114,
   "metadata": {},
   "outputs": [],
   "source": [
    "skf = StratifiedKFold(n_splits = 3, random_state = 42)"
   ]
  },
  {
   "cell_type": "code",
   "execution_count": 115,
   "metadata": {},
   "outputs": [],
   "source": [
    "RF_GS = GridSearchCV(pipeRF, param_RF, cv = skf, scoring = 'balanced_accuracy', n_jobs = -1, verbose = 1)"
   ]
  },
  {
   "cell_type": "code",
   "execution_count": 116,
   "metadata": {},
   "outputs": [
    {
     "name": "stdout",
     "output_type": "stream",
     "text": [
      "Fitting 3 folds for each of 108 candidates, totalling 324 fits\n"
     ]
    },
    {
     "name": "stderr",
     "output_type": "stream",
     "text": [
      "[Parallel(n_jobs=-1)]: Using backend LokyBackend with 4 concurrent workers.\n",
      "[Parallel(n_jobs=-1)]: Done  42 tasks      | elapsed:   16.6s\n",
      "[Parallel(n_jobs=-1)]: Done 192 tasks      | elapsed:   58.8s\n",
      "[Parallel(n_jobs=-1)]: Done 324 out of 324 | elapsed:  1.6min finished\n"
     ]
    },
    {
     "data": {
      "text/plain": [
       "GridSearchCV(cv=StratifiedKFold(n_splits=3, random_state=42, shuffle=False),\n",
       "             estimator=Pipeline(steps=[('prep',\n",
       "                                        ColumnTransformer(transformers=[('numeric',\n",
       "                                                                         Pipeline(steps=[('imputer',\n",
       "                                                                                          SimpleImputer()),\n",
       "                                                                                         ('scaler',\n",
       "                                                                                          RobustScaler())]),\n",
       "                                                                         ['No_Transactions',\n",
       "                                                                          'No_Orders',\n",
       "                                                                          'No_Payments',\n",
       "                                                                          'Total_transaction',\n",
       "                                                                          'Fail_transaction',\n",
       "                                                                          'PaymentRegFail',\n",
       "                                                                          'PaypalPayments',\n",
       "                                                                          'ApplePay...\n",
       "                                                                          'OrdersFulfilled',\n",
       "                                                                          'OrdersPending',\n",
       "                                                                          'OrdersFailed',\n",
       "                                                                          'Trns_fail_order_fulfilled',\n",
       "                                                                          'Duplicate_IP',\n",
       "                                                                          'Duplicate_Address'])])),\n",
       "                                       ('algo', RandomForestClassifier())]),\n",
       "             n_jobs=-1,\n",
       "             param_grid={'algo__max_depth': [None, 5, 10],\n",
       "                         'algo__max_features': [0.3, 0.5, 0.7, 0.8],\n",
       "                         'algo__min_samples_leaf': array([ 1,  6, 11]),\n",
       "                         'algo__n_estimators': array([100, 200, 300])},\n",
       "             scoring='balanced_accuracy', verbose=1)"
      ]
     },
     "execution_count": 116,
     "metadata": {},
     "output_type": "execute_result"
    }
   ],
   "source": [
    "RF_GS.fit(X_train, y_train)"
   ]
  },
  {
   "cell_type": "code",
   "execution_count": 117,
   "metadata": {},
   "outputs": [],
   "source": [
    "RF_Tuned = RF_GS.best_estimator_"
   ]
  },
  {
   "cell_type": "code",
   "execution_count": 118,
   "metadata": {},
   "outputs": [],
   "source": [
    "y_train_RF_Tuned = RF_Tuned.predict(X_train)\n",
    "y_test_RF_Tuned = RF_Tuned.predict(X_test)"
   ]
  },
  {
   "cell_type": "code",
   "execution_count": 119,
   "metadata": {},
   "outputs": [
    {
     "data": {
      "text/html": [
       "<div>\n",
       "<style scoped>\n",
       "    .dataframe tbody tr th:only-of-type {\n",
       "        vertical-align: middle;\n",
       "    }\n",
       "\n",
       "    .dataframe tbody tr th {\n",
       "        vertical-align: top;\n",
       "    }\n",
       "\n",
       "    .dataframe thead th {\n",
       "        text-align: right;\n",
       "    }\n",
       "</style>\n",
       "<table border=\"1\" class=\"dataframe\">\n",
       "  <thead>\n",
       "    <tr style=\"text-align: right;\">\n",
       "      <th></th>\n",
       "      <th>Training Pipeline RF Tuned</th>\n",
       "      <th>Test Pipeline RF Tuned</th>\n",
       "    </tr>\n",
       "  </thead>\n",
       "  <tbody>\n",
       "    <tr>\n",
       "      <th>Accuracy</th>\n",
       "      <td>0.991228</td>\n",
       "      <td>0.620690</td>\n",
       "    </tr>\n",
       "    <tr>\n",
       "      <th>Recall</th>\n",
       "      <td>0.977778</td>\n",
       "      <td>0.454545</td>\n",
       "    </tr>\n",
       "    <tr>\n",
       "      <th>Precision</th>\n",
       "      <td>1.000000</td>\n",
       "      <td>0.500000</td>\n",
       "    </tr>\n",
       "    <tr>\n",
       "      <th>F1</th>\n",
       "      <td>0.988764</td>\n",
       "      <td>0.988764</td>\n",
       "    </tr>\n",
       "  </tbody>\n",
       "</table>\n",
       "</div>"
      ],
      "text/plain": [
       "           Training Pipeline RF Tuned  Test Pipeline RF Tuned\n",
       "Accuracy                     0.991228                0.620690\n",
       "Recall                       0.977778                0.454545\n",
       "Precision                    1.000000                0.500000\n",
       "F1                           0.988764                0.988764"
      ]
     },
     "execution_count": 119,
     "metadata": {},
     "output_type": "execute_result"
    }
   ],
   "source": [
    "df_RF_Tuned = Eva_Matrix1(RF_Tuned, X_train, y_train, X_test, y_test, \"Pipeline RF Tuned\")\n",
    "df_RF_Tuned"
   ]
  },
  {
   "cell_type": "code",
   "execution_count": 120,
   "metadata": {},
   "outputs": [
    {
     "name": "stdout",
     "output_type": "stream",
     "text": [
      "              precision    recall  f1-score   support\n",
      "\n",
      "           0       0.68      0.72      0.70        18\n",
      "           1       0.50      0.45      0.48        11\n",
      "\n",
      "    accuracy                           0.62        29\n",
      "   macro avg       0.59      0.59      0.59        29\n",
      "weighted avg       0.61      0.62      0.62        29\n",
      "\n"
     ]
    },
    {
     "data": {
      "image/png": "[encoded data removed]",
      "text/plain": [
       "<Figure size 432x288 with 2 Axes>"
      ]
     },
     "metadata": {
      "needs_background": "light"
     },
     "output_type": "display_data"
    }
   ],
   "source": [
    "print(classification_report(y_test, y_test_RF_Tuned))\n",
    "cm_RF_tuned_test = confusion_matrix(y_test, y_test_RF_Tuned, labels = [1,0])\n",
    "df_RF_tuned_test = pd.DataFrame(data=cm_RF_tuned_test, columns=['Pred 1', 'Pred 0'], index=['Akt 1', 'Akt 0'])\n",
    "sns.heatmap(df_RF_tuned_test, annot=True)\n",
    "plt.show()"
   ]
  },
  {
   "cell_type": "markdown",
   "metadata": {},
   "source": [
    "### =============================================================="
   ]
  },
  {
   "cell_type": "markdown",
   "metadata": {},
   "source": [
    "# Improvement Algoritma (Fine Tuning)"
   ]
  },
  {
   "cell_type": "markdown",
   "metadata": {},
   "source": [
    "## DecisionTreeClassifier (Fine Tuning)"
   ]
  },
  {
   "cell_type": "code",
   "execution_count": 121,
   "metadata": {},
   "outputs": [],
   "source": [
    "pipeDT_Tuning = Pipeline([\n",
    "    (\"prep\", preprocessor),\n",
    "    (\"algo\", DecisionTreeClassifier(max_depth = 3, max_features = 0.4, min_samples_leaf = 1, min_samples_split = 2, random_state=42))\n",
    "])"
   ]
  },
  {
   "cell_type": "code",
   "execution_count": 122,
   "metadata": {},
   "outputs": [
    {
     "data": {
      "text/plain": [
       "Pipeline(steps=[('prep',\n",
       "                 ColumnTransformer(transformers=[('numeric',\n",
       "                                                  Pipeline(steps=[('imputer',\n",
       "                                                                   SimpleImputer()),\n",
       "                                                                  ('scaler',\n",
       "                                                                   RobustScaler())]),\n",
       "                                                  ['No_Transactions',\n",
       "                                                   'No_Orders', 'No_Payments',\n",
       "                                                   'Total_transaction',\n",
       "                                                   'Fail_transaction',\n",
       "                                                   'PaymentRegFail',\n",
       "                                                   'PaypalPayments',\n",
       "                                                   'ApplePayments',\n",
       "                                                   'CardPayments',\n",
       "                                                   'BitcoinPayments', 'JCB_16',\n",
       "                                                   'AmericanExp', 'VISA_16',\n",
       "                                                   'Discover', 'Voyager',\n",
       "                                                   'VISA_13', 'Maestro',\n",
       "                                                   'Mastercard', 'DC_CB',\n",
       "                                                   'JCB_15', 'OrdersFulfilled',\n",
       "                                                   'OrdersPending',\n",
       "                                                   'OrdersFailed',\n",
       "                                                   'Trns_fail_order_fulfilled',\n",
       "                                                   'Duplicate_IP',\n",
       "                                                   'Duplicate_Address'])])),\n",
       "                ('algo',\n",
       "                 DecisionTreeClassifier(max_depth=3, max_features=0.4,\n",
       "                                        random_state=42))])"
      ]
     },
     "execution_count": 122,
     "metadata": {},
     "output_type": "execute_result"
    }
   ],
   "source": [
    "pipeDT_Tuning.fit(X_train, y_train)"
   ]
  },
  {
   "cell_type": "code",
   "execution_count": 123,
   "metadata": {},
   "outputs": [],
   "source": [
    "y_train_DT_Fine_Tuned = pipeDT_Tuning.predict(X_train)\n",
    "y_test_DT_Fine_Tuned = pipeDT_Tuning.predict(X_test)"
   ]
  },
  {
   "cell_type": "code",
   "execution_count": 124,
   "metadata": {},
   "outputs": [
    {
     "data": {
      "text/html": [
       "<div>\n",
       "<style scoped>\n",
       "    .dataframe tbody tr th:only-of-type {\n",
       "        vertical-align: middle;\n",
       "    }\n",
       "\n",
       "    .dataframe tbody tr th {\n",
       "        vertical-align: top;\n",
       "    }\n",
       "\n",
       "    .dataframe thead th {\n",
       "        text-align: right;\n",
       "    }\n",
       "</style>\n",
       "<table border=\"1\" class=\"dataframe\">\n",
       "  <thead>\n",
       "    <tr style=\"text-align: right;\">\n",
       "      <th></th>\n",
       "      <th>Training Pipeline DT Fine Tuning</th>\n",
       "      <th>Test Pipeline DT Fine Tuning</th>\n",
       "    </tr>\n",
       "  </thead>\n",
       "  <tbody>\n",
       "    <tr>\n",
       "      <th>Accuracy</th>\n",
       "      <td>0.815789</td>\n",
       "      <td>0.793103</td>\n",
       "    </tr>\n",
       "    <tr>\n",
       "      <th>Recall</th>\n",
       "      <td>0.600000</td>\n",
       "      <td>0.454545</td>\n",
       "    </tr>\n",
       "    <tr>\n",
       "      <th>Precision</th>\n",
       "      <td>0.900000</td>\n",
       "      <td>1.000000</td>\n",
       "    </tr>\n",
       "    <tr>\n",
       "      <th>F1</th>\n",
       "      <td>0.720000</td>\n",
       "      <td>0.720000</td>\n",
       "    </tr>\n",
       "  </tbody>\n",
       "</table>\n",
       "</div>"
      ],
      "text/plain": [
       "           Training Pipeline DT Fine Tuning  Test Pipeline DT Fine Tuning\n",
       "Accuracy                           0.815789                      0.793103\n",
       "Recall                             0.600000                      0.454545\n",
       "Precision                          0.900000                      1.000000\n",
       "F1                                 0.720000                      0.720000"
      ]
     },
     "execution_count": 124,
     "metadata": {},
     "output_type": "execute_result"
    }
   ],
   "source": [
    "df_DT_Fine_Tuned = Eva_Matrix1(pipeDT_Tuning, X_train, y_train, X_test, y_test, \"Pipeline DT Fine Tuning\")\n",
    "df_DT_Fine_Tuned"
   ]
  },
  {
   "cell_type": "code",
   "execution_count": 125,
   "metadata": {},
   "outputs": [
    {
     "name": "stdout",
     "output_type": "stream",
     "text": [
      "              precision    recall  f1-score   support\n",
      "\n",
      "           0       0.75      1.00      0.86        18\n",
      "           1       1.00      0.45      0.62        11\n",
      "\n",
      "    accuracy                           0.79        29\n",
      "   macro avg       0.88      0.73      0.74        29\n",
      "weighted avg       0.84      0.79      0.77        29\n",
      "\n"
     ]
    },
    {
     "data": {
      "image/png": "[encoded data removed]",
      "text/plain": [
       "<Figure size 432x288 with 2 Axes>"
      ]
     },
     "metadata": {
      "needs_background": "light"
     },
     "output_type": "display_data"
    }
   ],
   "source": [
    "print(classification_report(y_test, y_test_DT_Fine_Tuned))\n",
    "cm_DT_Fine_tuned_test = confusion_matrix(y_test, y_test_DT_Fine_Tuned, labels = [1,0])\n",
    "df_DT_Fine_tuned_test = pd.DataFrame(data=cm_DT_Fine_tuned_test, columns=['Pred 1', 'Pred 0'], index=['Akt 1', 'Akt 0'])\n",
    "sns.heatmap(df_DT_Fine_tuned_test, annot=True)\n",
    "plt.show()"
   ]
  },
  {
   "cell_type": "markdown",
   "metadata": {},
   "source": [
    "## KNN (Fine Tuning)"
   ]
  },
  {
   "cell_type": "code",
   "execution_count": 126,
   "metadata": {},
   "outputs": [],
   "source": [
    "pipeKNN_Tuning = Pipeline([\n",
    "    (\"prep\", preprocessor),\n",
    "    (\"algo\", KNeighborsClassifier(n_neighbors = 2, p = 2, weights = 'uniform'))\n",
    "])"
   ]
  },
  {
   "cell_type": "code",
   "execution_count": 127,
   "metadata": {},
   "outputs": [
    {
     "data": {
      "text/plain": [
       "Pipeline(steps=[('prep',\n",
       "                 ColumnTransformer(transformers=[('numeric',\n",
       "                                                  Pipeline(steps=[('imputer',\n",
       "                                                                   SimpleImputer()),\n",
       "                                                                  ('scaler',\n",
       "                                                                   RobustScaler())]),\n",
       "                                                  ['No_Transactions',\n",
       "                                                   'No_Orders', 'No_Payments',\n",
       "                                                   'Total_transaction',\n",
       "                                                   'Fail_transaction',\n",
       "                                                   'PaymentRegFail',\n",
       "                                                   'PaypalPayments',\n",
       "                                                   'ApplePayments',\n",
       "                                                   'CardPayments',\n",
       "                                                   'BitcoinPayments', 'JCB_16',\n",
       "                                                   'AmericanExp', 'VISA_16',\n",
       "                                                   'Discover', 'Voyager',\n",
       "                                                   'VISA_13', 'Maestro',\n",
       "                                                   'Mastercard', 'DC_CB',\n",
       "                                                   'JCB_15', 'OrdersFulfilled',\n",
       "                                                   'OrdersPending',\n",
       "                                                   'OrdersFailed',\n",
       "                                                   'Trns_fail_order_fulfilled',\n",
       "                                                   'Duplicate_IP',\n",
       "                                                   'Duplicate_Address'])])),\n",
       "                ('algo', KNeighborsClassifier(n_neighbors=2))])"
      ]
     },
     "execution_count": 127,
     "metadata": {},
     "output_type": "execute_result"
    }
   ],
   "source": [
    "pipeKNN_Tuning.fit(X_train, y_train)"
   ]
  },
  {
   "cell_type": "code",
   "execution_count": 128,
   "metadata": {},
   "outputs": [],
   "source": [
    "y_train_KNN_Fine_Tuned = pipeKNN_Tuning.predict(X_train)\n",
    "y_test_KNN_Fine_Tuned = pipeKNN_Tuning.predict(X_test)"
   ]
  },
  {
   "cell_type": "code",
   "execution_count": 129,
   "metadata": {},
   "outputs": [
    {
     "data": {
      "text/html": [
       "<div>\n",
       "<style scoped>\n",
       "    .dataframe tbody tr th:only-of-type {\n",
       "        vertical-align: middle;\n",
       "    }\n",
       "\n",
       "    .dataframe tbody tr th {\n",
       "        vertical-align: top;\n",
       "    }\n",
       "\n",
       "    .dataframe thead th {\n",
       "        text-align: right;\n",
       "    }\n",
       "</style>\n",
       "<table border=\"1\" class=\"dataframe\">\n",
       "  <thead>\n",
       "    <tr style=\"text-align: right;\">\n",
       "      <th></th>\n",
       "      <th>Training Pipeline KN Fine Tuning</th>\n",
       "      <th>Test Pipeline KN Fine Tuning</th>\n",
       "    </tr>\n",
       "  </thead>\n",
       "  <tbody>\n",
       "    <tr>\n",
       "      <th>Accuracy</th>\n",
       "      <td>0.789474</td>\n",
       "      <td>0.758621</td>\n",
       "    </tr>\n",
       "    <tr>\n",
       "      <th>Recall</th>\n",
       "      <td>0.466667</td>\n",
       "      <td>0.363636</td>\n",
       "    </tr>\n",
       "    <tr>\n",
       "      <th>Precision</th>\n",
       "      <td>1.000000</td>\n",
       "      <td>1.000000</td>\n",
       "    </tr>\n",
       "    <tr>\n",
       "      <th>F1</th>\n",
       "      <td>0.636364</td>\n",
       "      <td>0.636364</td>\n",
       "    </tr>\n",
       "  </tbody>\n",
       "</table>\n",
       "</div>"
      ],
      "text/plain": [
       "           Training Pipeline KN Fine Tuning  Test Pipeline KN Fine Tuning\n",
       "Accuracy                           0.789474                      0.758621\n",
       "Recall                             0.466667                      0.363636\n",
       "Precision                          1.000000                      1.000000\n",
       "F1                                 0.636364                      0.636364"
      ]
     },
     "execution_count": 129,
     "metadata": {},
     "output_type": "execute_result"
    }
   ],
   "source": [
    "df_KNN_Fine_Tuned = Eva_Matrix1(pipeKNN_Tuning, X_train, y_train, X_test, y_test, \"Pipeline KN Fine Tuning\")\n",
    "df_KNN_Fine_Tuned"
   ]
  },
  {
   "cell_type": "code",
   "execution_count": 130,
   "metadata": {},
   "outputs": [
    {
     "name": "stdout",
     "output_type": "stream",
     "text": [
      "              precision    recall  f1-score   support\n",
      "\n",
      "           0       0.72      1.00      0.84        18\n",
      "           1       1.00      0.36      0.53        11\n",
      "\n",
      "    accuracy                           0.76        29\n",
      "   macro avg       0.86      0.68      0.69        29\n",
      "weighted avg       0.83      0.76      0.72        29\n",
      "\n"
     ]
    },
    {
     "data": {
      "image/png": "[encoded data removed]",
      "text/plain": [
       "<Figure size 432x288 with 2 Axes>"
      ]
     },
     "metadata": {
      "needs_background": "light"
     },
     "output_type": "display_data"
    }
   ],
   "source": [
    "print(classification_report(y_test, y_test_KNN_Fine_Tuned))\n",
    "cm_KNN_Fine_tuned_test = confusion_matrix(y_test, y_test_KNN_Fine_Tuned, labels = [1,0])\n",
    "df_KNN_Fine_tuned_test = pd.DataFrame(data=cm_KNN_Fine_tuned_test, columns=['Pred 1', 'Pred 0'], index=['Akt 1', 'Akt 0'])\n",
    "sns.heatmap(df_KNN_Fine_tuned_test, annot=True)\n",
    "plt.show()"
   ]
  },
  {
   "cell_type": "markdown",
   "metadata": {},
   "source": [
    "## SVM (Fine Tuning)"
   ]
  },
  {
   "cell_type": "code",
   "execution_count": 189,
   "metadata": {},
   "outputs": [],
   "source": [
    "pipeSVM_Tuning = Pipeline([\n",
    "    (\"prep\", preprocessor),\n",
    "    (\"algo\", SVC(max_iter=400, probability=True, kernel='linear', C = 1.4, gamma = 10, class_weight = {0 : 0.4, 1 : 0.6}))\n",
    "])"
   ]
  },
  {
   "cell_type": "code",
   "execution_count": 190,
   "metadata": {},
   "outputs": [
    {
     "data": {
      "text/plain": [
       "Pipeline(steps=[('prep',\n",
       "                 ColumnTransformer(transformers=[('numeric',\n",
       "                                                  Pipeline(steps=[('imputer',\n",
       "                                                                   SimpleImputer()),\n",
       "                                                                  ('scaler',\n",
       "                                                                   RobustScaler())]),\n",
       "                                                  ['No_Transactions',\n",
       "                                                   'No_Orders', 'No_Payments',\n",
       "                                                   'Total_transaction',\n",
       "                                                   'Fail_transaction',\n",
       "                                                   'PaymentRegFail',\n",
       "                                                   'PaypalPayments',\n",
       "                                                   'ApplePayments',\n",
       "                                                   'CardPayments',\n",
       "                                                   'BitcoinPayments', 'JCB_16',\n",
       "                                                   'AmericanExp', 'VISA_16',\n",
       "                                                   'Discover', 'Voyager',\n",
       "                                                   'VISA_13', 'Maestro',\n",
       "                                                   'Mastercard', 'DC_CB',\n",
       "                                                   'JCB_15', 'OrdersFulfilled',\n",
       "                                                   'OrdersPending',\n",
       "                                                   'OrdersFailed',\n",
       "                                                   'Trns_fail_order_fulfilled',\n",
       "                                                   'Duplicate_IP',\n",
       "                                                   'Duplicate_Address'])])),\n",
       "                ('algo',\n",
       "                 SVC(C=1.4, class_weight={0: 0.4, 1: 0.6}, gamma=10,\n",
       "                     kernel='linear', max_iter=400, probability=True))])"
      ]
     },
     "execution_count": 190,
     "metadata": {},
     "output_type": "execute_result"
    }
   ],
   "source": [
    "pipeSVM_Tuning.fit(X_train, y_train)"
   ]
  },
  {
   "cell_type": "code",
   "execution_count": 191,
   "metadata": {},
   "outputs": [],
   "source": [
    "y_train_SVM_Fine_Tuned = pipeSVM_Tuning.predict(X_train)\n",
    "y_test_SVM_Fine_Tuned = pipeSVM_Tuning.predict(X_test)"
   ]
  },
  {
   "cell_type": "code",
   "execution_count": 192,
   "metadata": {},
   "outputs": [
    {
     "data": {
      "text/html": [
       "<div>\n",
       "<style scoped>\n",
       "    .dataframe tbody tr th:only-of-type {\n",
       "        vertical-align: middle;\n",
       "    }\n",
       "\n",
       "    .dataframe tbody tr th {\n",
       "        vertical-align: top;\n",
       "    }\n",
       "\n",
       "    .dataframe thead th {\n",
       "        text-align: right;\n",
       "    }\n",
       "</style>\n",
       "<table border=\"1\" class=\"dataframe\">\n",
       "  <thead>\n",
       "    <tr style=\"text-align: right;\">\n",
       "      <th></th>\n",
       "      <th>Training Pipeline SVM Fine Tuning</th>\n",
       "      <th>Test Pipeline SVM Fine Tuning</th>\n",
       "    </tr>\n",
       "  </thead>\n",
       "  <tbody>\n",
       "    <tr>\n",
       "      <th>Accuracy</th>\n",
       "      <td>0.824561</td>\n",
       "      <td>0.827586</td>\n",
       "    </tr>\n",
       "    <tr>\n",
       "      <th>Recall</th>\n",
       "      <td>0.800000</td>\n",
       "      <td>0.545455</td>\n",
       "    </tr>\n",
       "    <tr>\n",
       "      <th>Precision</th>\n",
       "      <td>0.765957</td>\n",
       "      <td>1.000000</td>\n",
       "    </tr>\n",
       "    <tr>\n",
       "      <th>F1</th>\n",
       "      <td>0.782609</td>\n",
       "      <td>0.782609</td>\n",
       "    </tr>\n",
       "  </tbody>\n",
       "</table>\n",
       "</div>"
      ],
      "text/plain": [
       "           Training Pipeline SVM Fine Tuning  Test Pipeline SVM Fine Tuning\n",
       "Accuracy                            0.824561                       0.827586\n",
       "Recall                              0.800000                       0.545455\n",
       "Precision                           0.765957                       1.000000\n",
       "F1                                  0.782609                       0.782609"
      ]
     },
     "execution_count": 192,
     "metadata": {},
     "output_type": "execute_result"
    }
   ],
   "source": [
    "df_SVM_Fine_Tuned = Eva_Matrix1(pipeSVM_Tuning, X_train, y_train, X_test, y_test, \"Pipeline SVM Fine Tuning\")\n",
    "df_SVM_Fine_Tuned"
   ]
  },
  {
   "cell_type": "code",
   "execution_count": 193,
   "metadata": {},
   "outputs": [
    {
     "name": "stdout",
     "output_type": "stream",
     "text": [
      "              precision    recall  f1-score   support\n",
      "\n",
      "           0       0.78      1.00      0.88        18\n",
      "           1       1.00      0.55      0.71        11\n",
      "\n",
      "    accuracy                           0.83        29\n",
      "   macro avg       0.89      0.77      0.79        29\n",
      "weighted avg       0.87      0.83      0.81        29\n",
      "\n"
     ]
    },
    {
     "data": {
      "image/png": "[encoded data removed]",
      "text/plain": [
       "<Figure size 432x288 with 2 Axes>"
      ]
     },
     "metadata": {
      "needs_background": "light"
     },
     "output_type": "display_data"
    }
   ],
   "source": [
    "print(classification_report(y_test, y_test_SVM_Fine_Tuned))\n",
    "cm_SVM_Fine_tuned_test = confusion_matrix(y_test, y_test_SVM_Fine_Tuned, labels = [1,0])\n",
    "df_SVM_Fine_tuned_test = pd.DataFrame(data=cm_SVM_Fine_tuned_test, columns=['Pred 1', 'Pred 0'], index=['Akt 1', 'Akt 0'])\n",
    "sns.heatmap(df_SVM_Fine_tuned_test, annot=True)\n",
    "plt.show()"
   ]
  },
  {
   "cell_type": "markdown",
   "metadata": {},
   "source": [
    "## RandomForestClassifier (Fine Tuning)"
   ]
  },
  {
   "cell_type": "code",
   "execution_count": 136,
   "metadata": {},
   "outputs": [],
   "source": [
    "pipeRF_Tuning = Pipeline([\n",
    "    (\"prep\", preprocessor),\n",
    "    (\"algo\", RandomForestClassifier(max_depth = 3, max_features = 0.2, min_samples_leaf = 3, min_samples_split = 6, class_weight = {0 : 0.45, 1 : 0.55}, random_state=42))\n",
    "])"
   ]
  },
  {
   "cell_type": "code",
   "execution_count": 137,
   "metadata": {},
   "outputs": [
    {
     "data": {
      "text/plain": [
       "Pipeline(steps=[('prep',\n",
       "                 ColumnTransformer(transformers=[('numeric',\n",
       "                                                  Pipeline(steps=[('imputer',\n",
       "                                                                   SimpleImputer()),\n",
       "                                                                  ('scaler',\n",
       "                                                                   RobustScaler())]),\n",
       "                                                  ['No_Transactions',\n",
       "                                                   'No_Orders', 'No_Payments',\n",
       "                                                   'Total_transaction',\n",
       "                                                   'Fail_transaction',\n",
       "                                                   'PaymentRegFail',\n",
       "                                                   'PaypalPayments',\n",
       "                                                   'ApplePayments',\n",
       "                                                   'CardPayments',\n",
       "                                                   'BitcoinPayments', 'JCB_16',\n",
       "                                                   'AmericanExp', 'VISA_16',\n",
       "                                                   'Discover', 'Voyager',\n",
       "                                                   'VISA_13', 'Maestro',\n",
       "                                                   'Mastercard', 'DC_CB',\n",
       "                                                   'JCB_15', 'OrdersFulfilled',\n",
       "                                                   'OrdersPending',\n",
       "                                                   'OrdersFailed',\n",
       "                                                   'Trns_fail_order_fulfilled',\n",
       "                                                   'Duplicate_IP',\n",
       "                                                   'Duplicate_Address'])])),\n",
       "                ('algo',\n",
       "                 RandomForestClassifier(class_weight={0: 0.45, 1: 0.55},\n",
       "                                        max_depth=3, max_features=0.2,\n",
       "                                        min_samples_leaf=3, min_samples_split=6,\n",
       "                                        random_state=42))])"
      ]
     },
     "execution_count": 137,
     "metadata": {},
     "output_type": "execute_result"
    }
   ],
   "source": [
    "pipeRF_Tuning.fit(X_train, y_train)"
   ]
  },
  {
   "cell_type": "code",
   "execution_count": 138,
   "metadata": {},
   "outputs": [],
   "source": [
    "y_train_RF_Fine_Tuned = pipeRF_Tuning.predict(X_train)\n",
    "y_test_RF_Fine_Tuned = pipeRF_Tuning.predict(X_test)"
   ]
  },
  {
   "cell_type": "code",
   "execution_count": 139,
   "metadata": {},
   "outputs": [
    {
     "data": {
      "text/html": [
       "<div>\n",
       "<style scoped>\n",
       "    .dataframe tbody tr th:only-of-type {\n",
       "        vertical-align: middle;\n",
       "    }\n",
       "\n",
       "    .dataframe tbody tr th {\n",
       "        vertical-align: top;\n",
       "    }\n",
       "\n",
       "    .dataframe thead th {\n",
       "        text-align: right;\n",
       "    }\n",
       "</style>\n",
       "<table border=\"1\" class=\"dataframe\">\n",
       "  <thead>\n",
       "    <tr style=\"text-align: right;\">\n",
       "      <th></th>\n",
       "      <th>Training Pipeline RF Fine Tuning</th>\n",
       "      <th>Test Pipeline RF Fine Tuning</th>\n",
       "    </tr>\n",
       "  </thead>\n",
       "  <tbody>\n",
       "    <tr>\n",
       "      <th>Accuracy</th>\n",
       "      <td>0.833333</td>\n",
       "      <td>0.758621</td>\n",
       "    </tr>\n",
       "    <tr>\n",
       "      <th>Recall</th>\n",
       "      <td>0.600000</td>\n",
       "      <td>0.454545</td>\n",
       "    </tr>\n",
       "    <tr>\n",
       "      <th>Precision</th>\n",
       "      <td>0.964286</td>\n",
       "      <td>0.833333</td>\n",
       "    </tr>\n",
       "    <tr>\n",
       "      <th>F1</th>\n",
       "      <td>0.739726</td>\n",
       "      <td>0.739726</td>\n",
       "    </tr>\n",
       "  </tbody>\n",
       "</table>\n",
       "</div>"
      ],
      "text/plain": [
       "           Training Pipeline RF Fine Tuning  Test Pipeline RF Fine Tuning\n",
       "Accuracy                           0.833333                      0.758621\n",
       "Recall                             0.600000                      0.454545\n",
       "Precision                          0.964286                      0.833333\n",
       "F1                                 0.739726                      0.739726"
      ]
     },
     "execution_count": 139,
     "metadata": {},
     "output_type": "execute_result"
    }
   ],
   "source": [
    "df_RF_Fine_Tuned = Eva_Matrix1(pipeRF_Tuning, X_train, y_train, X_test, y_test, \"Pipeline RF Fine Tuning\")\n",
    "df_RF_Fine_Tuned"
   ]
  },
  {
   "cell_type": "code",
   "execution_count": 140,
   "metadata": {},
   "outputs": [
    {
     "name": "stdout",
     "output_type": "stream",
     "text": [
      "              precision    recall  f1-score   support\n",
      "\n",
      "           0       0.74      0.94      0.83        18\n",
      "           1       0.83      0.45      0.59        11\n",
      "\n",
      "    accuracy                           0.76        29\n",
      "   macro avg       0.79      0.70      0.71        29\n",
      "weighted avg       0.77      0.76      0.74        29\n",
      "\n"
     ]
    },
    {
     "data": {
      "image/png": "[encoded data removed]",
      "text/plain": [
       "<Figure size 432x288 with 2 Axes>"
      ]
     },
     "metadata": {
      "needs_background": "light"
     },
     "output_type": "display_data"
    }
   ],
   "source": [
    "print(classification_report(y_test, y_test_RF_Fine_Tuned))\n",
    "cm_RF_Fine_tuned_test = confusion_matrix(y_test, y_test_RF_Fine_Tuned, labels = [1,0])\n",
    "df_RF_Fine_tuned_test = pd.DataFrame(data=cm_RF_Fine_tuned_test, columns=['Pred 1', 'Pred 0'], index=['Akt 1', 'Akt 0'])\n",
    "sns.heatmap(df_RF_Fine_tuned_test, annot=True)\n",
    "plt.show()"
   ]
  },
  {
   "cell_type": "markdown",
   "metadata": {},
   "source": [
    "# Conclusion\n",
    "- Berdasarkan data yang diperoleh, untuk perbandingan Customers yang Fraud dan Non-Fraud yaitu sebesar 0.608392 untuk yang Non-Fraud dan 0.391608 Fraud, sehingga berfokus pada Accuracy dari Model Machine Learning.\n",
    "- Untuk kasus Customer Fraud berdasarkan data ini, didapatkan Model terbaik dengan menggunakan Algoritma : SVM dengan menggunakan Parameter sebagai berikut : max_iter=400, probability=True, kernel='linear', C = 1.4, gamma = 10, class_weight = {0 : 0.4, 1 : 0.6}. Dengan hasil Accuracy Data Train 0.824561, dan hasil Accuracy Data Testing 0.827586."
   ]
  }
 ],
 "metadata": {
  "kernelspec": {
   "display_name": "Python 3",
   "language": "python",
   "name": "python3"
  },
  "language_info": {
   "codemirror_mode": {
    "name": "ipython",
    "version": 3
   },
   "file_extension": ".py",
   "mimetype": "text/x-python",
   "name": "python",
   "nbconvert_exporter": "python",
   "pygments_lexer": "ipython3",
   "version": "3.8.5"
  }
 },
 "nbformat": 4,
 "nbformat_minor": 4
}
